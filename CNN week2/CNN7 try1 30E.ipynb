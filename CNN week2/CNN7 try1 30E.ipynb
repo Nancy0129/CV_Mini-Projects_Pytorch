{
 "cells": [
  {
   "cell_type": "markdown",
   "metadata": {},
   "source": [
    "Based on CNN5, added a conv2d layer, added 2 maxpooling  \n",
    "Eval and test accuracy increased a little  \n",
    "Training accuracy decreased from 0.9 to 0.8\n"
   ]
  },
  {
   "cell_type": "code",
   "execution_count": null,
   "metadata": {
    "_cell_guid": "b1076dfc-b9ad-4769-8c92-a6c4dae69d19",
    "_uuid": "8f2839f25d086af736a60e9eeb907d3b93b6e0e5",
    "collapsed": true
   },
   "outputs": [],
   "source": [
    "# This Python 3 environment comes with many helpful analytics libraries installed\n",
    "# It is defined by the kaggle/python Docker image: https://github.com/kaggle/docker-python\n",
    "# For example, here's several helpful packages to load\n",
    "\n",
    "import numpy as np # linear algebra\n",
    "import pandas as pd # data processing, CSV file I/O (e.g. pd.read_csv)\n",
    "\n",
    "# Input data files are available in the read-only \"../input/\" directory\n",
    "# For example, running this (by clicking run or pressing Shift+Enter) will list all files under the input directory\n",
    "\n",
    "import os\n",
    "for dirname, _, filenames in os.walk('/kaggle/input'):\n",
    "    for filename in filenames:\n",
    "        print(os.path.join(dirname, filename))\n",
    "\n",
    "# You can write up to 5GB to the current directory (/kaggle/working/) that gets preserved as output when you create a version using \"Save & Run All\" \n",
    "# You can also write temporary files to /kaggle/temp/, but they won't be saved outside of the current session"
   ]
  },
  {
   "cell_type": "code",
   "execution_count": null,
   "metadata": {
    "_cell_guid": "79c7e3d0-c299-4dcb-8224-4455121ee9b0",
    "_uuid": "d629ff2d2480ee46fbb7e2d37f6b5fab8052498a",
    "collapsed": true
   },
   "outputs": [],
   "source": [
    "import torch\n",
    "import torch.nn as nn\n",
    "from torch.autograd import Variable\n",
    "import torch.utils.data as Data\n",
    "import matplotlib.pyplot as plt\n",
    "import os\n",
    "from PIL import Image, ImageChops\n",
    "import numpy as np\n",
    "import pandas as pd\n",
    "import torchvision\n",
    "import warnings\n",
    "warnings.filterwarnings(\"ignore\")"
   ]
  },
  {
   "cell_type": "code",
   "execution_count": null,
   "metadata": {
    "collapsed": true
   },
   "outputs": [],
   "source": [
    "def setup_seed(seed):\n",
    "     torch.manual_seed(seed)\n",
    "     torch.cuda.manual_seed_all(seed)\n",
    "     np.random.seed(seed)\n",
    "     torch.backends.cudnn.deterministic = True\n",
    "# 设置随机数种子\n",
    "setup_seed(20)"
   ]
  },
  {
   "cell_type": "code",
   "execution_count": null,
   "metadata": {
    "collapsed": true
   },
   "outputs": [],
   "source": [
    "class CNN7(nn.Module):\n",
    "    def __init__(self):\n",
    "        super(CNN7,self).__init__()\n",
    "        \n",
    "        self.conv1=nn.Sequential(\n",
    "            nn.Conv2d(\n",
    "                in_channels=3,    #前面的层有多高\n",
    "                out_channels=32,   #filter 的个数\n",
    "                kernel_size=7,\n",
    "                stride=1,\n",
    "                padding=(3,3)  # if stride=1, padding=(kernel_size-1)/2\n",
    "            ), \n",
    "            nn.ReLU(),   \n",
    "            nn.BatchNorm2d(32),\n",
    "            nn.MaxPool2d(2)\n",
    "        )\n",
    "        \n",
    "        self.conv2=nn.Sequential(\n",
    "            nn.Conv2d(32,64,7,1,3),\n",
    "            nn.ReLU(),\n",
    "            nn.BatchNorm2d(64),\n",
    "            nn.MaxPool2d(2)\n",
    "        )\n",
    "\n",
    "        \n",
    "        self.conv3=nn.Sequential(\n",
    "            nn.Conv2d(64,128,7,1,3),\n",
    "            nn.ReLU(),\n",
    "            nn.BatchNorm2d(128),\n",
    "            nn.MaxPool2d(2)\n",
    "        )\n",
    "\n",
    "        \n",
    "        self.conv4=nn.Sequential(\n",
    "            nn.Conv2d(128,256,3,1,1),\n",
    "            nn.ReLU(),\n",
    "            nn.BatchNorm2d(256),\n",
    "            nn.MaxPool2d(2)\n",
    "        )\n",
    "        \n",
    "        self.conv5=nn.Sequential(\n",
    "            nn.Conv2d(256,256,3,1,1),\n",
    "            nn.ReLU(),\n",
    "            nn.BatchNorm2d(256),\n",
    "            nn.MaxPool2d(2)\n",
    "        )\n",
    "        \n",
    "        self.conv6=nn.Sequential(\n",
    "            nn.Conv2d(256,256,3,1,1),\n",
    "            nn.ReLU(),\n",
    "            nn.BatchNorm2d(256),\n",
    "            nn.MaxPool2d(2)\n",
    "        )\n",
    "        \n",
    "        self.conv7=nn.Sequential(\n",
    "            nn.Conv2d(256,256,3,1,1),\n",
    "            nn.ReLU(),\n",
    "            nn.BatchNorm2d(256),\n",
    "            nn.MaxPool2d(2)\n",
    "        )\n",
    "\n",
    "\n",
    "        self.dense1=nn.Sequential(\n",
    "            nn.Linear(2*2*256,2048),\n",
    "            nn.Dropout(0.5),\n",
    "            nn.ReLU()\n",
    "        )\n",
    "        \n",
    "        self.dense2=nn.Sequential(\n",
    "            nn.Linear(2048,2048),\n",
    "            nn.Dropout(0.5),\n",
    "            nn.ReLU()\n",
    "        )\n",
    "        \n",
    "        self.dense3=nn.Sequential(\n",
    "            nn.Linear(2048,1024),\n",
    "            nn.Dropout(0.5),\n",
    "            nn.ReLU()\n",
    "        )\n",
    "       \n",
    "        self.out=nn.Linear(1024,101)\n",
    "        \n",
    "    def forward(self,x):\n",
    "        x=self.conv1(x)\n",
    "        x=self.conv2(x)\n",
    "        x=self.conv3(x)\n",
    "        x=self.conv4(x)\n",
    "        x=self.conv5(x)\n",
    "        x=self.conv6(x)\n",
    "        x=self.conv7(x)\n",
    "        x=x.view(x.size(0),-1)\n",
    "        x=self.dense1(x)\n",
    "        x=self.dense2(x)\n",
    "        x=self.dense3(x)\n",
    "        output=self.out(x)\n",
    "        return output       \n",
    "cnn7=CNN7().cuda()\n",
    "print(cnn7)"
   ]
  },
  {
   "cell_type": "code",
   "execution_count": null,
   "metadata": {
    "collapsed": true
   },
   "outputs": [],
   "source": [
    "EPOCH = 30\n",
    "BATCH_SIZE=64\n",
    "LR=0.001\n",
    "optimizer=torch.optim.Adam(cnn7.parameters(),lr=LR,weight_decay=0.001)\n",
    "torch.optim.lr_scheduler.ReduceLROnPlateau(optimizer, mode='min', factor=0.1, patience=10, \n",
    "    verbose=True, threshold=0.0001, threshold_mode='rel', cooldown=0, min_lr=0, eps=1e-08)\n",
    "loss_func=nn.CrossEntropyLoss()\n"
   ]
  },
  {
   "cell_type": "code",
   "execution_count": null,
   "metadata": {
    "collapsed": true
   },
   "outputs": [],
   "source": [
    "train_data = torchvision.datasets.ImageFolder('/kaggle/input/caltech101/Caltech101/train',transform=torchvision.transforms.Compose([\n",
    "            torchvision.transforms.Resize((256,256)),\n",
    "            torchvision.transforms.RandomHorizontalFlip(),\n",
    "            torchvision.transforms.ColorJitter(brightness=0.5, contrast=0.5, hue=0.5),\n",
    "            torchvision.transforms.ToTensor()]))\n",
    "\n",
    "eval_data=torchvision.datasets.ImageFolder('/kaggle/input/caltech101/Caltech101/eval',transform=torchvision.transforms.Compose([\n",
    "            torchvision.transforms.Resize((256,256)),torchvision.transforms.ToTensor()]))\n",
    "\n",
    "test_data=torchvision.datasets.ImageFolder('/kaggle/input/caltech101/Caltech101/test',transform=torchvision.transforms.Compose([\n",
    "    torchvision.transforms.Resize((256,256)),torchvision.transforms.ToTensor()]))\n",
    "\n",
    "train_loader=Data.DataLoader(dataset=train_data,batch_size=BATCH_SIZE,\n",
    "                             shuffle=True, num_workers=2)\n",
    "eval_loader=Data.DataLoader(dataset=eval_data,batch_size=200,\n",
    "                             shuffle=True, num_workers=2)\n",
    "test_loader=Data.DataLoader(dataset=test_data,batch_size=200,\n",
    "                             shuffle=True, num_workers=2)"
   ]
  },
  {
   "cell_type": "code",
   "execution_count": null,
   "metadata": {
    "collapsed": true
   },
   "outputs": [],
   "source": [
    "losses=[]\n",
    "train_accs=[]\n",
    "eval_accs=[]\n",
    "for epoch in range(EPOCH):\n",
    "    for step,(x,y) in enumerate(train_loader):\n",
    "        b_x=Variable(x).cuda()\n",
    "        b_y=Variable(y).cuda()\n",
    "        \n",
    "        output=cnn7(b_x)   #change\n",
    "        loss=loss_func(output,b_y)\n",
    "        optimizer.zero_grad()\n",
    "        loss.backward()\n",
    "        optimizer.step()\n",
    "        \n",
    "        if step%10==0:\n",
    "            with torch.no_grad():\n",
    "                pred_y=torch.max(output,1)[1].cuda().data.squeeze()\n",
    "                train_accuracy=sum(pred_y==b_y).cpu().numpy()/b_y.size(0)\n",
    "                train_accs.append(train_accuracy)\n",
    "                losses.append(loss.data)\n",
    "                torch.cuda.empty_cache()\n",
    "                eval_acc=[]\n",
    "                for x,y in eval_loader:\n",
    "                    b_x=Variable(x).cuda()\n",
    "                    b_y=Variable(y).cuda()        \n",
    "                    output=cnn7(b_x)         #change\n",
    "                    pred_y=torch.max(output,1)[1].cuda().data.squeeze()\n",
    "                    accuracy=sum(pred_y==b_y).cpu().numpy()/b_y.size(0)\n",
    "                    eval_acc.append(accuracy)\n",
    "                eval_accs.append(np.mean(eval_acc))\n",
    "                print('Epoch: ',epoch,'| Step: ',step,'| loss: ',loss.data,\n",
    "                      '| Train_acc: ', train_accuracy,'| Eval_acc: ', np.mean(eval_acc))\n",
    "\n",
    " \n"
   ]
  },
  {
   "cell_type": "code",
   "execution_count": 11,
   "metadata": {
    "collapsed": false
   },
   "outputs": [
    {
     "data": {
      "image/png": "[encoded data removed]",
      "text/plain": [
       "<Figure size 432x288 with 1 Axes>"
      ]
     },
     "metadata": {
      "needs_background": "light"
     },
     "output_type": "display_data"
    }
   ],
   "source": [
    "x=np.arange(len(losses))*10\n",
    "plt.plot(x,losses)\n",
    "plt.title('CNN7 TRY 1')\n",
    "plt.xlabel('Step')\n",
    "plt.ylabel('Loss')\n",
    "plt.show()"
   ]
  },
  {
   "cell_type": "code",
   "execution_count": 12,
   "metadata": {
    "collapsed": false
   },
   "outputs": [
    {
     "data": {
      "image/png": "[encoded data removed]",
      "text/plain": [
       "<Figure size 432x288 with 1 Axes>"
      ]
     },
     "metadata": {
      "needs_background": "light"
     },
     "output_type": "display_data"
    }
   ],
   "source": [
    "plt.plot(x,eval_accs,label='eval')\n",
    "plt.plot(x,train_accs,label='train')\n",
    "plt.title('CNN7 TRY 1')\n",
    "plt.xlabel('Step')\n",
    "plt.ylabel('Accuracy')\n",
    "plt.legend()\n",
    "plt.show()"
   ]
  },
  {
   "cell_type": "code",
   "execution_count": 15,
   "metadata": {
    "collapsed": false
   },
   "outputs": [
    {
     "data": {
      "text/plain": [
       "[0.859375,\n",
       " 0.78125,\n",
       " 0.84375,\n",
       " 0.84375,\n",
       " 0.84375,\n",
       " 0.75,\n",
       " 0.859375,\n",
       " 0.734375,\n",
       " 0.90625,\n",
       " 0.765625,\n",
       " 0.8125,\n",
       " 0.703125,\n",
       " 0.734375,\n",
       " 0.828125,\n",
       " 0.75,\n",
       " 0.71875,\n",
       " 0.765625,\n",
       " 0.8125,\n",
       " 0.859375,\n",
       " 0.84375,\n",
       " 0.8125,\n",
       " 0.796875,\n",
       " 0.8125,\n",
       " 0.8125,\n",
       " 0.859375,\n",
       " 0.890625,\n",
       " 0.796875,\n",
       " 0.734375,\n",
       " 0.75,\n",
       " 0.84375,\n",
       " 0.875,\n",
       " 0.78125,\n",
       " 0.75,\n",
       " 0.734375,\n",
       " 0.78125,\n",
       " 0.875,\n",
       " 0.859375,\n",
       " 0.765625,\n",
       " 0.796875,\n",
       " 0.828125,\n",
       " 0.78125,\n",
       " 0.875,\n",
       " 0.765625,\n",
       " 0.796875,\n",
       " 0.78125,\n",
       " 0.8125,\n",
       " 0.890625,\n",
       " 0.8125,\n",
       " 0.765625,\n",
       " 0.828125,\n",
       " 0.90625,\n",
       " 0.796875,\n",
       " 0.796875,\n",
       " 0.875,\n",
       " 0.8125,\n",
       " 0.796875,\n",
       " 0.796875,\n",
       " 0.796875,\n",
       " 0.84375,\n",
       " 0.828125,\n",
       " 0.90625,\n",
       " 0.6875,\n",
       " 0.734375,\n",
       " 0.765625,\n",
       " 0.796875,\n",
       " 0.796875,\n",
       " 0.875,\n",
       " 0.796875,\n",
       " 0.8125,\n",
       " 0.921875,\n",
       " 0.90625,\n",
       " 0.875,\n",
       " 0.8125,\n",
       " 0.75,\n",
       " 0.734375,\n",
       " 0.875,\n",
       " 0.828125,\n",
       " 0.78125,\n",
       " 0.828125,\n",
       " 0.71875,\n",
       " 0.8125,\n",
       " 0.765625,\n",
       " 0.671875,\n",
       " 0.78125,\n",
       " 0.75,\n",
       " 0.78125,\n",
       " 0.671875,\n",
       " 0.78125,\n",
       " 0.796875,\n",
       " 0.828125,\n",
       " 0.78125,\n",
       " 0.828125,\n",
       " 0.796875,\n",
       " 0.78125,\n",
       " 0.859375,\n",
       " 0.875,\n",
       " 0.7222222222222222]"
      ]
     },
     "execution_count": 15,
     "metadata": {},
     "output_type": "execute_result"
    }
   ],
   "source": [
    "train_acc=[]\n",
    "with torch.no_grad():\n",
    "    for x,y in train_loader:\n",
    "        b_x=Variable(x).cuda()\n",
    "        b_y=Variable(y).cuda()        \n",
    "        output=cnn7(b_x)\n",
    "        pred_y=torch.max(output,1)[1].cuda().data.squeeze()\n",
    "        accuracy=sum(pred_y==b_y).cpu().numpy()/b_y.size(0)\n",
    "        train_acc.append(accuracy)\n",
    "train_acc"
   ]
  },
  {
   "cell_type": "code",
   "execution_count": 16,
   "metadata": {
    "collapsed": false
   },
   "outputs": [
    {
     "data": {
      "text/plain": [
       "[0.63, 0.62, 0.64, 0.675, 0.65]"
      ]
     },
     "execution_count": 16,
     "metadata": {},
     "output_type": "execute_result"
    }
   ],
   "source": [
    "eval_acc=[]\n",
    "with torch.no_grad():\n",
    "    for x,y in eval_loader:\n",
    "        b_x=Variable(x).cuda()\n",
    "        b_y=Variable(y).cuda()        \n",
    "        output=cnn7(b_x)\n",
    "        pred_y=torch.max(output,1)[1].cuda().data.squeeze()\n",
    "        accuracy=sum(pred_y==b_y).cpu().numpy()/b_y.size(0)\n",
    "        eval_acc.append(accuracy)\n",
    "eval_acc"
   ]
  },
  {
   "cell_type": "code",
   "execution_count": 17,
   "metadata": {
    "collapsed": false
   },
   "outputs": [
    {
     "data": {
      "text/plain": [
       "[0.615, 0.66, 0.68, 0.655, 0.5]"
      ]
     },
     "execution_count": 17,
     "metadata": {},
     "output_type": "execute_result"
    }
   ],
   "source": [
    "test_acc=[]\n",
    "with torch.no_grad():\n",
    "    for x,y in eval_loader:\n",
    "        b_x=Variable(x).cuda()\n",
    "        b_y=Variable(y).cuda()        \n",
    "        output=cnn7(b_x)\n",
    "        pred_y=torch.max(output,1)[1].cuda().data.squeeze()\n",
    "        accuracy=sum(pred_y==b_y).cpu().numpy()/b_y.size(0)\n",
    "        test_acc.append(accuracy)\n",
    "test_acc"
   ]
  },
  {
   "cell_type": "code",
   "execution_count": 18,
   "metadata": {
    "collapsed": false
   },
   "outputs": [
    {
     "data": {
      "text/plain": [
       "0.8043205899198168"
      ]
     },
     "execution_count": 18,
     "metadata": {},
     "output_type": "execute_result"
    }
   ],
   "source": [
    "np.mean(train_acc)"
   ]
  },
  {
   "cell_type": "code",
   "execution_count": 19,
   "metadata": {
    "collapsed": false
   },
   "outputs": [
    {
     "data": {
      "text/plain": [
       "0.643"
      ]
     },
     "execution_count": 19,
     "metadata": {},
     "output_type": "execute_result"
    }
   ],
   "source": [
    "np.mean(eval_acc)"
   ]
  },
  {
   "cell_type": "code",
   "execution_count": 20,
   "metadata": {
    "collapsed": false
   },
   "outputs": [
    {
     "data": {
      "text/plain": [
       "0.6220000000000001"
      ]
     },
     "execution_count": 20,
     "metadata": {},
     "output_type": "execute_result"
    }
   ],
   "source": [
    "np.mean(test_acc)"
   ]
  }
 ],
 "metadata": {
  "anaconda-cloud": {},
  "kernelspec": {
   "display_name": "Python [default]",
   "language": "python",
   "name": "python3"
  },
  "language_info": {
   "codemirror_mode": {
    "name": "ipython",
    "version": 3
   },
   "file_extension": ".py",
   "mimetype": "text/x-python",
   "name": "python",
   "nbconvert_exporter": "python",
   "pygments_lexer": "ipython3",
   "version": "3.5.6"
  }
 },
 "nbformat": 4,
 "nbformat_minor": 4
}
