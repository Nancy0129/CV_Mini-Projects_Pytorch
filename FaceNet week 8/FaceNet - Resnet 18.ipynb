{
 "cells": [
  {
   "cell_type": "markdown",
   "metadata": {},
   "source": [
    "## Import Packages"
   ]
  },
  {
   "cell_type": "code",
   "execution_count": 1,
   "metadata": {
    "collapsed": true
   },
   "outputs": [],
   "source": [
    "import torch\n",
    "import torch.utils.data\n",
    "from torch.utils.data import DataLoader,Dataset\n",
    "import torch.nn as nn\n",
    "from torch.nn import functional as F\n",
    "from torch.nn.parameter import Parameter\n",
    "from torch.nn.functional import pad\n",
    "from torch.nn.modules import Module\n",
    "from torch.nn.modules.utils import _single, _pair, _triple\n",
    "from torchvision import transforms\n",
    "from torch.autograd import Variable\n",
    "from torch.autograd import Function\n",
    "import torch.optim as optim\n",
    "import numpy as np\n",
    "import math\n",
    "import time\n",
    "from sklearn.model_selection import KFold\n",
    "from sklearn.metrics import roc_curve, auc\n",
    "import os.path as osp\n",
    "import os\n",
    "import PIL\n",
    "from PIL import Image, ImageDraw\n",
    "import matplotlib.pyplot as plt\n",
    "import copy"
   ]
  },
  {
   "cell_type": "code",
   "execution_count": 2,
   "metadata": {
    "collapsed": true
   },
   "outputs": [],
   "source": [
    "def setup_seed(seed):\n",
    "    torch.manual_seed(seed)\n",
    "    torch.cuda.manual_seed_all(seed)\n",
    "    np.random.seed(seed)\n",
    "    torch.backends.cudnn.deterministic = True\n",
    "setup_seed(25)"
   ]
  },
  {
   "cell_type": "markdown",
   "metadata": {},
   "source": [
    "## Read People txt file\n",
    "- Here are 2 examples of the lines in the 'peopleDevTrain.txt' file:\n",
    "        Aaron_Eckhart\t1\n",
    "        Yoko_Ono\t6\n",
    "        \n",
    "  The part shows the person name, the figure is the number of images of that person.\n",
    "  The image path of each person will be:\n",
    "       name+ '_'+('0000'+str(j))[-4:]+'_0_align_.jpg'\n",
    "\n",
    "- In this part, the outputs are :\n",
    "        num_list:      a list of number of images of each person\n",
    "        name_list:     a list of names of people\n",
    "        img_path_list:   a list of image path of the images of each person\n",
    "        \n",
    "- The output will be the input of the InplaceDataSet function"
   ]
  },
  {
   "cell_type": "code",
   "execution_count": 3,
   "metadata": {
    "collapsed": true
   },
   "outputs": [],
   "source": [
    "def create_FaceNet_txt(txt_path,img_folder):\n",
    "    name_list=open(txt_path, 'r').readlines()\n",
    "    name_list=[i.split() for i in name_list][1:]\n",
    "    img_name_list=os.listdir(img_folder)\n",
    "    img_path_list=[]\n",
    "    for i in name_list:\n",
    "        name=i[0]\n",
    "        num=int(i[1]) \n",
    "        img_path_list.append([os.path.join(img_folder,name+'_'+('0000'+str(j))[-4:]+'_0_align_.jpg') for j in range(1,num+1)])\n",
    "    num_list=[int(i[1]) for i in name_list]\n",
    "    name_list = [i[0] for i in name_list]\n",
    "    return num_list,name_list,img_path_list\n",
    "                \n",
    "            "
   ]
  },
  {
   "cell_type": "markdown",
   "metadata": {},
   "source": [
    "## Inplace Dataset\n",
    "- In the \\__init\\__ part, it first put the people names with more than 1 images in to the anchor list\n",
    "\n",
    "\n",
    "- In the \\__getitem\\__ part, it randomly chooses one image from the images of that person as anchor image. Then, it randomly select another images from the images of that person as positive images. After that, it randomly choose an images of another person as negative image\n",
    "\n",
    "\n",
    "- The outputs are: \n",
    "        anchor image, positive image, negative image"
   ]
  },
  {
   "cell_type": "code",
   "execution_count": 4,
   "metadata": {
    "collapsed": true
   },
   "outputs": [],
   "source": [
    "class InplaceDataset(Dataset):\n",
    "    def __init__(self, num_list,name_list,img_path,transform=False):\n",
    "        self.name_list=name_list\n",
    "        self.img_path=img_path\n",
    "        keep=np.array(num_list)>1\n",
    "        self.anchor=list(np.array(name_list)[keep])\n",
    "        self.anchor_path=list(np.array(img_path)[keep])\n",
    "        self.transform=transform\n",
    "        \n",
    "    def __getitem__(self, index):\n",
    "        img_name,img_path_list=self.anchor[index],self.anchor_path[index]\n",
    "        anchor_id=np.random.choice(len(img_path_list))\n",
    "        while True:\n",
    "            pos_id=np.random.choice(len(img_path_list))\n",
    "            if pos_id != anchor_id:\n",
    "                break\n",
    "        \n",
    "        while True:\n",
    "            neg_index=np.random.choice(len(self.name_list))\n",
    "            if self.name_list[neg_index] != img_name:\n",
    "                break\n",
    "        neg_path_list=self.img_path[neg_index]\n",
    "        neg_id=np.random.choice(len(neg_path_list))\n",
    "        \n",
    "        anc=Image.open(img_path_list[anchor_id]).resize((224,224))\n",
    "        pos=Image.open(img_path_list[pos_id]).resize((224,224))\n",
    "        neg=Image.open(neg_path_list[neg_id]).resize((224,224)) \n",
    "        if self.transform:\n",
    "            anc=transforms.RandomHorizontalFlip(0.5)(anc)\n",
    "            anc=transforms.ColorJitter(brightness=0.3, contrast=0.3, hue=0.1)(anc)\n",
    "            pos=transforms.RandomHorizontalFlip(0.5)(pos)\n",
    "            pos=transforms.ColorJitter(brightness=0.3, contrast=0.3, hue=0.1)(pos)\n",
    "            neg=transforms.RandomHorizontalFlip(0.5)(neg)\n",
    "            neg=transforms.ColorJitter(brightness=0.3, contrast=0.3, hue=0.1)(neg)\n",
    "        anc,pos,neg=transforms.ToTensor()(anc),transforms.ToTensor()(pos),transforms.ToTensor()(neg)\n",
    "        anc = transforms.functional.normalize(anc, [0.485, 0.456, 0.406], [0.229, 0.224, 0.225])\n",
    "        pos = transforms.functional.normalize(pos, [0.485, 0.456, 0.406], [0.229, 0.224, 0.225])\n",
    "        neg = transforms.functional.normalize(neg, [0.485, 0.456, 0.406], [0.229, 0.224, 0.225])\n",
    "        return anc,pos,neg\n",
    "\n",
    "    def __len__(self):\n",
    "        return len(self.anchor)"
   ]
  },
  {
   "cell_type": "markdown",
   "metadata": {},
   "source": [
    "## The FaceNet Model with ResNet 18"
   ]
  },
  {
   "cell_type": "code",
   "execution_count": 7,
   "metadata": {
    "collapsed": true
   },
   "outputs": [],
   "source": [
    "from torchvision.models import resnet18\n",
    "\n",
    "class FaceModel(nn.Module):\n",
    "    def __init__(self,embedding_size=128,pretrained=False):\n",
    "        super(FaceModel, self).__init__()\n",
    "\n",
    "        self.model = resnet18(pretrained)\n",
    "\n",
    "        self.embedding_size = embedding_size\n",
    "\n",
    "        self.model.fc = nn.Linear(25088, self.embedding_size)      \n",
    "\n",
    "\n",
    "    def l2_norm(self,input):\n",
    "        input_size = input.size()\n",
    "        buffer = torch.pow(input, 2)\n",
    "\n",
    "        normp = torch.sum(buffer, 1).add_(1e-10)\n",
    "        norm = torch.sqrt(normp)\n",
    "\n",
    "        _output = torch.div(input, norm.view(-1, 1).expand_as(input))\n",
    "\n",
    "        output = _output.view(input_size)\n",
    "\n",
    "        return output\n",
    "\n",
    "    def forward(self, x):\n",
    "\n",
    "        x = self.model.conv1(x)\n",
    "        x = self.model.bn1(x)\n",
    "        x = self.model.relu(x)\n",
    "        x = self.model.maxpool(x)\n",
    "        x = self.model.layer1(x)\n",
    "        x = self.model.layer2(x)\n",
    "        x = self.model.layer3(x)\n",
    "        x = self.model.layer4(x)\n",
    "        x = x.view(x.size(0), -1)\n",
    "        x = self.model.fc(x)\n",
    "        self.features = self.l2_norm(x)\n",
    "        # Multiply by alpha = 10 as suggested in https://arxiv.org/pdf/1703.09507.pdf\n",
    "        alpha=10\n",
    "        self.features = self.features*alpha\n",
    "        #x = self.model.classifier(self.features)\n",
    "        return self.features"
   ]
  },
  {
   "cell_type": "markdown",
   "metadata": {},
   "source": [
    "## The pairwise Distance and The Triplet Margin Loss\n",
    "- PairwiseDistance:\n",
    "$$\\begin{Vmatrix} x_1 - x_2 \\end{Vmatrix}^2_2$$\n",
    "- The Triple Margin Loss:\n",
    "$$L = \\sum_{i=1}^N \\left[ \\begin{Vmatrix} f(x^a_i)-f(a^p_i)\\end{Vmatrix}^2_2 - \\begin{Vmatrix} f(x^a_i)-f(a^p_i)\\end{Vmatrix}^2_2 + \\alpha \\right]_+$$"
   ]
  },
  {
   "cell_type": "code",
   "execution_count": 8,
   "metadata": {
    "collapsed": true
   },
   "outputs": [],
   "source": [
    "class PairwiseDistance(nn.Module):\n",
    "    def __init__(self, p):\n",
    "        super(PairwiseDistance, self).__init__()\n",
    "        self.norm = p\n",
    "\n",
    "    def forward(self, x1, x2):\n",
    "        assert x1.size() == x2.size()\n",
    "        eps = 1e-4 / x1.size(1)\n",
    "        diff = torch.abs(x1 - x2)\n",
    "        out = torch.pow(diff, self.norm).sum(dim=1)\n",
    "        return torch.pow(out + eps, 1. / self.norm)\n",
    "\n",
    "class TripletMarginLoss(nn.Module):\n",
    "    \"\"\"Triplet loss function.\n",
    "    \"\"\"\n",
    "    def __init__(self, margin):\n",
    "        super(TripletMarginLoss, self).__init__()\n",
    "        self.margin = margin\n",
    "        self.pdist = PairwiseDistance(2)  # norm 2\n",
    "\n",
    "    def forward(self, anchor, positive, negative):\n",
    "        d_p = self.pdist.forward(anchor, positive)\n",
    "        d_n = self.pdist.forward(anchor, negative)\n",
    "\n",
    "        dist_hinge = torch.clamp(self.margin + d_p - d_n, min=0.0)\n",
    "        loss = torch.mean(dist_hinge)\n",
    "        return loss"
   ]
  },
  {
   "cell_type": "markdown",
   "metadata": {},
   "source": [
    "## Accuracy and ROC curve\n",
    "Here shows the calculation of accuracy and ROC:\n",
    "<table><tbody>\n",
    "  <tr>\n",
    "    <td> </td>\n",
    "    <td> </td>\n",
    "    <th colspan=\"2\">  Prediction Value</th>\n",
    "  </tr>\n",
    "  <tr>\n",
    "    <td> </td>\n",
    "    <td> </td>\n",
    "    <td> 1</td>\n",
    "    <td > 0</td>    \n",
    "  </tr>\n",
    "  <tr>\n",
    "  <th rowspan=\"2\">Actual Value</th>\n",
    "    <td> 1</td>\n",
    "    <td>True Positive</td>\n",
    "    <td>False Negative</td>\n",
    "    \n",
    "  </tr>\n",
    "   <tr>\n",
    "    <td> 0</td>\n",
    "    <td>False Positive</td>\n",
    "    <td>True Negative</td>\n",
    "    \n",
    "  </tr>\n",
    "</table>\n",
    "\n",
    "- Accuracy:\n",
    "$$ Accuracy=\\frac{TP+TN}{TP+TN+FP+FN}$$\n",
    "- True Positive Rate （TPR):\n",
    "$$ TPR=\\frac{TP}{TP+FN}$$\n",
    "- False Positive Rate （FPR):\n",
    "$$ FPR=\\frac{FP}{TN+FP}$$"
   ]
  },
  {
   "cell_type": "code",
   "execution_count": 9,
   "metadata": {
    "collapsed": true
   },
   "outputs": [],
   "source": [
    "def evaluate(distances, labels, nrof_folds=10):\n",
    "    # Calculate evaluation metrics\n",
    "    thresholds = np.arange(0, 30, 0.01)\n",
    "    tpr, fpr, accuracy = calculate_roc(thresholds, distances,\n",
    "        labels, nrof_folds=nrof_folds)\n",
    "    return tpr, fpr, accuracy\n",
    "\n",
    "def calculate_roc(thresholds, distances, labels, nrof_folds=10):\n",
    "\n",
    "    nrof_pairs = min(len(labels), len(distances))\n",
    "    nrof_thresholds = len(thresholds)\n",
    "    k_fold = KFold(n_splits=nrof_folds, shuffle=False)\n",
    "\n",
    "    tprs = np.zeros((nrof_folds,nrof_thresholds))\n",
    "    fprs = np.zeros((nrof_folds,nrof_thresholds))\n",
    "    accuracy = np.zeros((nrof_folds))\n",
    "\n",
    "    indices = np.arange(nrof_pairs)\n",
    "\n",
    "    for fold_idx, (train_set, test_set) in enumerate(k_fold.split(indices)):\n",
    "\n",
    "        # Find the best threshold for the fold\n",
    "        acc_train = np.zeros((nrof_thresholds))\n",
    "        for threshold_idx, threshold in enumerate(thresholds):\n",
    "            _, _, acc_train[threshold_idx] = calculate_accuracy(threshold, distances[train_set], labels[train_set])\n",
    "        best_threshold_index = np.argmax(acc_train)\n",
    "        for threshold_idx, threshold in enumerate(thresholds):\n",
    "            tprs[fold_idx,threshold_idx], fprs[fold_idx,threshold_idx], _ = calculate_accuracy(threshold, distances[test_set], labels[test_set])\n",
    "        _, _, accuracy[fold_idx] = calculate_accuracy(thresholds[best_threshold_index], distances[test_set], labels[test_set])\n",
    "\n",
    "        tpr = np.mean(tprs,0)\n",
    "        fpr = np.mean(fprs,0)\n",
    "    return tpr, fpr, accuracy\n",
    "\n",
    "\n",
    "def calculate_accuracy(threshold, dist, actual_issame):\n",
    "    predict_issame = np.less(dist, threshold)\n",
    "    tp = np.sum(np.logical_and(predict_issame, actual_issame))\n",
    "    fp = np.sum(np.logical_and(predict_issame, np.logical_not(actual_issame)))\n",
    "    tn = np.sum(np.logical_and(np.logical_not(predict_issame), np.logical_not(actual_issame)))\n",
    "    fn = np.sum(np.logical_and(np.logical_not(predict_issame), actual_issame))\n",
    "\n",
    "    tpr = 0 if (tp+fn==0) else float(tp) / float(tp+fn)\n",
    "    fpr = 0 if (fp+tn==0) else float(fp) / float(fp+tn)\n",
    "    acc = float(tp+tn)/dist.size\n",
    "    return tpr, fpr, acc"
   ]
  },
  {
   "cell_type": "markdown",
   "metadata": {},
   "source": [
    "## Train Model"
   ]
  },
  {
   "cell_type": "code",
   "execution_count": 10,
   "metadata": {
    "collapsed": true
   },
   "outputs": [],
   "source": [
    "def train_and_eval(data_loader, model, optimizer, epoch,mode):\n",
    "    t0 = time.perf_counter()\n",
    "    # switch to train mode\n",
    "    if mode=='Train':\n",
    "        model.train()\n",
    "    else:\n",
    "        model.eval()\n",
    "    labels, distances = [], []\n",
    "    show_loss=0\n",
    "    total_hard_loss=0\n",
    "    hard_num=0\n",
    "    for data_a, data_p, data_n in data_loader:\n",
    "\n",
    "        data_a, data_p, data_n = data_a.cuda(), data_p.cuda(), data_n.cuda()\n",
    "\n",
    "        # compute output\n",
    "        out_a, out_p, out_n = model(data_a), model(data_p), model(data_n)\n",
    "        if mode=='Train':\n",
    "        # Choose the hard negatives\n",
    "            d_p = l2_dist.forward(out_a, out_p)\n",
    "            d_n = l2_dist.forward(out_a, out_n)\n",
    "            hard = ((d_n - d_p) < margin)\n",
    "            hard_triplets = torch.where(hard ==1)[0]\n",
    "            if len(hard_triplets) == 0:\n",
    "                continue\n",
    "            out_selected_a = out_a[hard_triplets]\n",
    "            out_selected_p = out_p[hard_triplets]\n",
    "            out_selected_n = out_n[hard_triplets]\n",
    "            \n",
    "        # compute gradient and update weights        \n",
    "            optimizer.zero_grad()\n",
    "            hard_loss = TripletMarginLoss(margin).forward(out_selected_a, out_selected_p, out_selected_n)\n",
    "            hard_loss.backward()\n",
    "            optimizer.step()\n",
    "            total_hard_loss+=hard_loss*len(hard_triplets)\n",
    "            hard_num+=len(hard_triplets)\n",
    "            \n",
    "        loss = TripletMarginLoss(margin).forward(out_a, out_p, out_n)\n",
    "        show_loss+=loss.item()* out_a.size(0)\n",
    "        \n",
    "        \n",
    "        dists = l2_dist.forward(out_a,out_n)   #torch.sqrt(torch.sum((out_a - out_n) ** 2, 1))  # euclidean distance\n",
    "        distances.append(dists.data.cpu().numpy())\n",
    "        labels.append(np.zeros(dists.size(0)))\n",
    "\n",
    "      \n",
    "        dists = l2_dist.forward(out_a,out_p) #torch.sqrt(torch.sum((out_a - out_p) ** 2, 1))  # euclidean distance\n",
    "        distances.append(dists.data.cpu().numpy())\n",
    "        labels.append(np.ones(dists.size(0)))     \n",
    "        \n",
    "    labels = np.array([sublabel for label in labels for sublabel in label])\n",
    "    distances = np.array([subdist for dist in distances for subdist in dist])\n",
    "    tpr, fpr, accuracy= evaluate(distances,labels)\n",
    "    \n",
    "    if mode=='Train':\n",
    "        show_loss=show_loss/train_num\n",
    "        hard_example_num.append(hard_num)\n",
    "        loss_train.append(show_loss)\n",
    "        acc_train.append(np.mean(accuracy))\n",
    "        train_roc[0]=fpr\n",
    "        train_roc[1]=tpr\n",
    "        total_hard_loss=total_hard_loss/hard_num\n",
    "        scheduler.step(total_hard_loss)\n",
    "    else:\n",
    "        show_loss=show_loss/eval_num\n",
    "        loss_eval.append(show_loss)\n",
    "        acc_eval.append(np.mean(accuracy))\n",
    "        eval_roc[0]=fpr\n",
    "        eval_roc[1]=tpr\n",
    "        if show_loss<best_eval_loss[0]:\n",
    "            best_eval_loss[0]=show_loss\n",
    "            best_model_weight[0]=copy.deepcopy(model.state_dict())\n",
    "            early_stop[0]=0\n",
    "        else:\n",
    "            early_stop[0]+=1\n",
    "    \n",
    "    t1 = time.perf_counter()\n",
    "    \n",
    "    \n",
    "    print('Epoch: {} {}: | Loss: {:.6f} | Accuracy: {:.6f}| Time: {:.4f} min'.format(epoch,mode,show_loss,np.mean(accuracy),(t1-t0)/60))\n",
    "    if mode=='Train':\n",
    "        return model\n"
   ]
  },
  {
   "cell_type": "code",
   "execution_count": 11,
   "metadata": {
    "collapsed": true
   },
   "outputs": [],
   "source": [
    "lr_decay=1e-4\n",
    "lr=0.01\n",
    "wd=1e-4\n",
    "EPOCH=200\n",
    "margin=0.5\n",
    "BATCH_SIZE=64\n",
    "NUM_WORKS=8\n",
    "train_txt_path='../input/lfw-crop/peopleDevTrain.txt'\n",
    "eval_txt_path='../input/lfw-crop/peopleDevTest.txt'\n",
    "img_folder_path='../input/lfw-crop/LFW_cropped/LFW_cropped'\n",
    "Tnum_list,Tname_list,Timg_path=create_FaceNet_txt(train_txt_path,img_folder_path)\n",
    "Enum_list,Ename_list,Eimg_path=create_FaceNet_txt(eval_txt_path,img_folder_path)\n",
    "Train_IDS=InplaceDataset(Tnum_list,Tname_list,Timg_path,transform=True)\n",
    "Eval_IDS=InplaceDataset(Enum_list,Ename_list,Eimg_path)\n",
    "train_num=len(Train_IDS)\n",
    "eval_num=len(Eval_IDS)\n",
    "train_loader=DataLoader(Train_IDS,batch_size=BATCH_SIZE,shuffle=True,num_workers=NUM_WORKS)\n",
    "eval_loader=DataLoader(Eval_IDS,batch_size=BATCH_SIZE,shuffle=True,num_workers=NUM_WORKS)\n"
   ]
  },
  {
   "cell_type": "code",
   "execution_count": 12,
   "metadata": {
    "collapsed": false
   },
   "outputs": [
    {
     "name": "stdout",
     "output_type": "stream",
     "text": [
      "Epoch: 0 Train: | Loss: 0.517744 | Accuracy: 0.528277| Time: 0.4706 min\n",
      "Epoch: 0 Eval: | Loss: 0.448149 | Accuracy: 0.566556| Time: 0.1360 min\n",
      "Epoch: 1 Train: | Loss: 0.413693 | Accuracy: 0.592505| Time: 0.4788 min\n",
      "Epoch: 1 Eval: | Loss: 0.362622 | Accuracy: 0.610869| Time: 0.1343 min\n",
      "Epoch: 2 Train: | Loss: 0.381313 | Accuracy: 0.596712| Time: 0.4659 min\n",
      "Epoch: 2 Eval: | Loss: 0.360748 | Accuracy: 0.603798| Time: 0.1370 min\n",
      "Epoch: 3 Train: | Loss: 0.338895 | Accuracy: 0.630501| Time: 0.4754 min\n",
      "Epoch: 3 Eval: | Loss: 0.339967 | Accuracy: 0.606909| Time: 0.1359 min\n",
      "Epoch: 4 Train: | Loss: 0.331436 | Accuracy: 0.629187| Time: 0.4695 min\n",
      "Epoch: 4 Eval: | Loss: 0.361952 | Accuracy: 0.619949| Time: 0.1427 min\n",
      "Epoch: 5 Train: | Loss: 0.327314 | Accuracy: 0.654155| Time: 0.4643 min\n",
      "Epoch: 5 Eval: | Loss: 0.372477 | Accuracy: 0.669343| Time: 0.1407 min\n",
      "Epoch: 6 Train: | Loss: 0.326865 | Accuracy: 0.633455| Time: 0.4723 min\n",
      "Epoch: 6 Eval: | Loss: 0.315852 | Accuracy: 0.666333| Time: 0.1346 min\n",
      "Epoch: 7 Train: | Loss: 0.302297 | Accuracy: 0.653696| Time: 0.4585 min\n",
      "Epoch: 7 Eval: | Loss: 0.295096 | Accuracy: 0.667313| Time: 0.1377 min\n",
      "Epoch: 8 Train: | Loss: 0.295490 | Accuracy: 0.670148| Time: 0.4834 min\n",
      "Epoch: 8 Eval: | Loss: 0.317558 | Accuracy: 0.665333| Time: 0.1349 min\n",
      "Epoch: 9 Train: | Loss: 0.283283 | Accuracy: 0.680321| Time: 0.4715 min\n",
      "Epoch: 9 Eval: | Loss: 0.297079 | Accuracy: 0.678414| Time: 0.1342 min\n",
      "Epoch: 10 Train: | Loss: 0.277691 | Accuracy: 0.696803| Time: 0.4579 min\n",
      "Epoch: 10 Eval: | Loss: 0.285759 | Accuracy: 0.675354| Time: 0.1382 min\n",
      "Epoch: 11 Train: | Loss: 0.260352 | Accuracy: 0.703114| Time: 0.4792 min\n",
      "Epoch: 11 Eval: | Loss: 0.331275 | Accuracy: 0.648030| Time: 0.1357 min\n",
      "Epoch: 12 Train: | Loss: 0.263502 | Accuracy: 0.697638| Time: 0.4546 min\n",
      "Epoch: 12 Eval: | Loss: 0.258940 | Accuracy: 0.681455| Time: 0.1419 min\n",
      "Epoch: 13 Train: | Loss: 0.254389 | Accuracy: 0.708196| Time: 0.4658 min\n",
      "Epoch: 13 Eval: | Loss: 0.315603 | Accuracy: 0.669354| Time: 0.1365 min\n",
      "Epoch: 14 Train: | Loss: 0.252026 | Accuracy: 0.722147| Time: 0.4625 min\n",
      "Epoch: 14 Eval: | Loss: 0.258842 | Accuracy: 0.712727| Time: 0.1396 min\n",
      "Epoch: 15 Train: | Loss: 0.224868 | Accuracy: 0.717473| Time: 0.4624 min\n",
      "Epoch: 15 Eval: | Loss: 0.267121 | Accuracy: 0.699576| Time: 0.1334 min\n",
      "Epoch: 16 Train: | Loss: 0.232261 | Accuracy: 0.726352| Time: 0.4765 min\n",
      "Epoch: 16 Eval: | Loss: 0.285558 | Accuracy: 0.669414| Time: 0.1367 min\n",
      "Epoch: 17 Train: | Loss: 0.231807 | Accuracy: 0.729734| Time: 0.4598 min\n",
      "Epoch: 17 Eval: | Loss: 0.295768 | Accuracy: 0.645212| Time: 0.1434 min\n",
      "Epoch: 18 Train: | Loss: 0.203162 | Accuracy: 0.745364| Time: 0.4733 min\n",
      "Epoch: 18 Eval: | Loss: 0.305608 | Accuracy: 0.660303| Time: 0.1330 min\n",
      "Epoch: 19 Train: | Loss: 0.215965 | Accuracy: 0.748334| Time: 0.4629 min\n",
      "Epoch: 19 Eval: | Loss: 0.263136 | Accuracy: 0.709657| Time: 0.1405 min\n",
      "Epoch: 20 Train: | Loss: 0.200761 | Accuracy: 0.750413| Time: 0.4601 min\n",
      "Epoch: 20 Eval: | Loss: 0.260129 | Accuracy: 0.695535| Time: 0.1401 min\n",
      "Epoch: 21 Train: | Loss: 0.200545 | Accuracy: 0.752542| Time: 0.4730 min\n",
      "Epoch: 21 Eval: | Loss: 0.241091 | Accuracy: 0.713788| Time: 0.1333 min\n",
      "Epoch: 22 Train: | Loss: 0.195422 | Accuracy: 0.752562| Time: 0.4616 min\n",
      "Epoch: 22 Eval: | Loss: 0.275356 | Accuracy: 0.676404| Time: 0.1415 min\n",
      "Epoch: 23 Train: | Loss: 0.175511 | Accuracy: 0.762236| Time: 0.4660 min\n",
      "Epoch: 23 Eval: | Loss: 0.330336 | Accuracy: 0.654253| Time: 0.1348 min\n",
      "Epoch: 24 Train: | Loss: 0.191197 | Accuracy: 0.741091| Time: 0.4717 min\n",
      "Epoch: 24 Eval: | Loss: 0.276351 | Accuracy: 0.684505| Time: 0.1424 min\n",
      "Epoch: 25 Train: | Loss: 0.178922 | Accuracy: 0.785473| Time: 0.4661 min\n",
      "Epoch: 25 Eval: | Loss: 0.284735 | Accuracy: 0.665313| Time: 0.1371 min\n",
      "Epoch: 26 Train: | Loss: 0.173133 | Accuracy: 0.760561| Time: 0.4710 min\n",
      "Epoch: 26 Eval: | Loss: 0.244362 | Accuracy: 0.729737| Time: 0.1368 min\n",
      "Epoch    28: reducing learning rate of group 0 to 5.0000e-03.\n",
      "Epoch: 27 Train: | Loss: 0.175071 | Accuracy: 0.761369| Time: 0.4593 min\n",
      "Epoch: 27 Eval: | Loss: 0.249025 | Accuracy: 0.718879| Time: 0.1412 min\n",
      "Epoch: 28 Train: | Loss: 0.145745 | Accuracy: 0.791799| Time: 0.4692 min\n",
      "Epoch: 28 Eval: | Loss: 0.247646 | Accuracy: 0.712646| Time: 0.1332 min\n",
      "Epoch: 29 Train: | Loss: 0.137176 | Accuracy: 0.796430| Time: 0.4725 min\n",
      "Epoch: 29 Eval: | Loss: 0.215750 | Accuracy: 0.681414| Time: 0.1379 min\n",
      "Epoch: 30 Train: | Loss: 0.122408 | Accuracy: 0.809933| Time: 0.4566 min\n",
      "Epoch: 30 Eval: | Loss: 0.224372 | Accuracy: 0.711788| Time: 0.1360 min\n",
      "Epoch: 31 Train: | Loss: 0.124459 | Accuracy: 0.820087| Time: 0.4834 min\n",
      "Epoch: 31 Eval: | Loss: 0.235181 | Accuracy: 0.735929| Time: 0.1337 min\n",
      "Epoch: 32 Train: | Loss: 0.108395 | Accuracy: 0.825147| Time: 0.4644 min\n",
      "Epoch: 32 Eval: | Loss: 0.231815 | Accuracy: 0.724788| Time: 0.1513 min\n",
      "Epoch: 33 Train: | Loss: 0.116438 | Accuracy: 0.812485| Time: 0.4580 min\n",
      "Epoch: 33 Eval: | Loss: 0.231490 | Accuracy: 0.706626| Time: 0.1380 min\n",
      "Epoch: 34 Train: | Loss: 0.113942 | Accuracy: 0.830623| Time: 0.4707 min\n",
      "Epoch: 34 Eval: | Loss: 0.225379 | Accuracy: 0.721848| Time: 0.1398 min\n",
      "Epoch: 35 Train: | Loss: 0.105788 | Accuracy: 0.843331| Time: 0.4638 min\n",
      "Epoch: 35 Eval: | Loss: 0.232574 | Accuracy: 0.715707| Time: 0.1345 min\n",
      "Epoch: 36 Train: | Loss: 0.104622 | Accuracy: 0.841220| Time: 0.4774 min\n",
      "Epoch: 36 Eval: | Loss: 0.208750 | Accuracy: 0.732838| Time: 0.1351 min\n",
      "Epoch: 37 Train: | Loss: 0.098395 | Accuracy: 0.834849| Time: 0.4604 min\n",
      "Epoch: 37 Eval: | Loss: 0.239005 | Accuracy: 0.706566| Time: 0.1500 min\n",
      "Epoch: 38 Train: | Loss: 0.105606 | Accuracy: 0.841211| Time: 0.4680 min\n",
      "Epoch: 38 Eval: | Loss: 0.221681 | Accuracy: 0.732788| Time: 0.1334 min\n",
      "Epoch: 39 Train: | Loss: 0.083513 | Accuracy: 0.843322| Time: 0.4747 min\n",
      "Epoch: 39 Eval: | Loss: 0.247236 | Accuracy: 0.712687| Time: 0.1368 min\n",
      "Epoch: 40 Train: | Loss: 0.098478 | Accuracy: 0.843746| Time: 0.4609 min\n",
      "Epoch: 40 Eval: | Loss: 0.253687 | Accuracy: 0.693586| Time: 0.1378 min\n",
      "Epoch    42: reducing learning rate of group 0 to 2.5000e-03.\n",
      "Epoch: 41 Train: | Loss: 0.097996 | Accuracy: 0.845436| Time: 0.4791 min\n",
      "Epoch: 41 Eval: | Loss: 0.230084 | Accuracy: 0.732939| Time: 0.1326 min\n",
      "Epoch: 42 Train: | Loss: 0.081708 | Accuracy: 0.862295| Time: 0.4724 min\n",
      "Epoch: 42 Eval: | Loss: 0.206831 | Accuracy: 0.714889| Time: 0.1446 min\n",
      "Epoch: 43 Train: | Loss: 0.070757 | Accuracy: 0.866931| Time: 0.4588 min\n",
      "Epoch: 43 Eval: | Loss: 0.189927 | Accuracy: 0.734848| Time: 0.1376 min\n",
      "Epoch: 44 Train: | Loss: 0.081459 | Accuracy: 0.847953| Time: 0.4775 min\n",
      "Epoch: 44 Eval: | Loss: 0.201154 | Accuracy: 0.723727| Time: 0.1340 min\n",
      "Epoch: 45 Train: | Loss: 0.079667 | Accuracy: 0.872440| Time: 0.4596 min\n",
      "Epoch: 45 Eval: | Loss: 0.188889 | Accuracy: 0.730818| Time: 0.1392 min\n",
      "Epoch: 46 Train: | Loss: 0.066686 | Accuracy: 0.869061| Time: 0.4716 min\n",
      "Epoch: 46 Eval: | Loss: 0.200924 | Accuracy: 0.731949| Time: 0.1405 min\n",
      "Epoch: 47 Train: | Loss: 0.063295 | Accuracy: 0.869910| Time: 0.4713 min\n",
      "Epoch: 47 Eval: | Loss: 0.211214 | Accuracy: 0.728939| Time: 0.1361 min\n",
      "Epoch: 48 Train: | Loss: 0.064739 | Accuracy: 0.871585| Time: 0.4623 min\n",
      "Epoch: 48 Eval: | Loss: 0.214393 | Accuracy: 0.729808| Time: 0.1364 min\n",
      "Epoch: 49 Train: | Loss: 0.076492 | Accuracy: 0.875817| Time: 0.4751 min\n",
      "Epoch: 49 Eval: | Loss: 0.184999 | Accuracy: 0.731828| Time: 0.1345 min\n",
      "Epoch: 50 Train: | Loss: 0.064330 | Accuracy: 0.879214| Time: 0.4609 min\n",
      "Epoch: 50 Eval: | Loss: 0.218502 | Accuracy: 0.724899| Time: 0.1433 min\n",
      "Epoch: 51 Train: | Loss: 0.069871 | Accuracy: 0.876243| Time: 0.4775 min\n",
      "Epoch: 51 Eval: | Loss: 0.207810 | Accuracy: 0.726899| Time: 0.1339 min\n",
      "Epoch: 52 Train: | Loss: 0.052004 | Accuracy: 0.872479| Time: 0.4719 min\n",
      "Epoch: 52 Eval: | Loss: 0.201452 | Accuracy: 0.739960| Time: 0.1375 min\n",
      "Epoch: 53 Train: | Loss: 0.065240 | Accuracy: 0.875413| Time: 0.4562 min\n",
      "Epoch: 53 Eval: | Loss: 0.217688 | Accuracy: 0.726859| Time: 0.1381 min\n",
      "Epoch: 54 Train: | Loss: 0.060180 | Accuracy: 0.876252| Time: 0.4788 min\n",
      "Epoch: 54 Eval: | Loss: 0.203133 | Accuracy: 0.735899| Time: 0.1331 min\n",
      "Epoch: 55 Train: | Loss: 0.056372 | Accuracy: 0.870752| Time: 0.4625 min\n",
      "Epoch: 55 Eval: | Loss: 0.210545 | Accuracy: 0.717768| Time: 0.1436 min\n",
      "Epoch: 56 Train: | Loss: 0.055604 | Accuracy: 0.882144| Time: 0.4685 min\n",
      "Epoch: 56 Eval: | Loss: 0.240307 | Accuracy: 0.718798| Time: 0.1341 min\n",
      "Epoch: 57 Train: | Loss: 0.060416 | Accuracy: 0.886373| Time: 0.4754 min\n",
      "Epoch: 57 Eval: | Loss: 0.200656 | Accuracy: 0.712707| Time: 0.1370 min\n",
      "Epoch    59: reducing learning rate of group 0 to 1.2500e-03.\n",
      "Epoch: 58 Train: | Loss: 0.050656 | Accuracy: 0.896514| Time: 0.4621 min\n",
      "Epoch: 58 Eval: | Loss: 0.221446 | Accuracy: 0.723717| Time: 0.1390 min\n",
      "Epoch: 59 Train: | Loss: 0.053195 | Accuracy: 0.885929| Time: 0.4715 min\n",
      "Epoch: 59 Eval: | Loss: 0.218264 | Accuracy: 0.703646| Time: 0.1411 min\n",
      "Epoch: 60 Train: | Loss: 0.041617 | Accuracy: 0.897778| Time: 0.4617 min\n",
      "Epoch: 60 Eval: | Loss: 0.219160 | Accuracy: 0.739010| Time: 0.1431 min\n",
      "Best eval loss:  0.1849990439030432\n"
     ]
    }
   ],
   "source": [
    "model = FaceModel(pretrained=False).cuda()\n",
    "#optimizer = optim.Adam(model.parameters(),lr=lr,weight_decay=wd)\n",
    "optimizer = optim.Adagrad(model.parameters(), lr=lr,weight_decay=wd)\n",
    "# optimizer = optim.Adam(model.parameters(), lr=lr, betas=(0.9, 0.999), eps=1e-08, amsgrad=True)\n",
    "scheduler=torch.optim.lr_scheduler.ReduceLROnPlateau(optimizer, mode='min', factor=0.5, patience=5, \n",
    "        verbose=True, threshold=0.0001, threshold_mode='rel', cooldown=2, min_lr=1e-08, eps=1e-08)\n",
    "l2_dist = PairwiseDistance(2)\n",
    "loss_train,loss_eval,acc_train,acc_eval=[],[],[],[]\n",
    "train_roc,eval_roc=[[],[]],[[],[]]\n",
    "hard_example_num=[]\n",
    "best_eval_loss=[100]\n",
    "early_stop=[0]\n",
    "best_model_weight=[copy.deepcopy(model.state_dict())]\n",
    "num_train=len(Train_IDS)\n",
    "num_eval=len(Eval_IDS)\n",
    "for epoch in range( EPOCH):\n",
    "    model=train_and_eval(train_loader, model, optimizer, epoch,'Train')\n",
    "    train_and_eval(eval_loader, model, None, epoch,'Eval')\n",
    "    if early_stop[0] >10 and best_eval_loss[0]<0.25 and epoch>50:\n",
    "        break\n",
    "\n",
    "torch.save(best_model_weight[0],f'train_{EPOCH}_best.pkl')\n",
    "torch.save(model.state_dict(), f'train_{EPOCH}.pkl')\n",
    "print('Best eval loss: ',best_eval_loss[0])\n"
   ]
  },
  {
   "cell_type": "markdown",
   "metadata": {},
   "source": [
    "## Show The Loss curve"
   ]
  },
  {
   "cell_type": "code",
   "execution_count": 13,
   "metadata": {
    "collapsed": false
   },
   "outputs": [
    {
     "data": {
      "image/png": "[encoded data removed]",
      "text/plain": [
       "<Figure size 432x288 with 1 Axes>"
      ]
     },
     "metadata": {
      "needs_background": "light"
     },
     "output_type": "display_data"
    }
   ],
   "source": [
    "x=np.arange(len(loss_train))\n",
    "plt.plot(x,loss_train,label='train')\n",
    "plt.plot(x,loss_eval,label='eval')\n",
    "plt.title('FaceNet loss curve')\n",
    "plt.xlabel('Epoch')\n",
    "plt.ylabel('Loss')\n",
    "plt.legend()\n",
    "plt.show()"
   ]
  },
  {
   "cell_type": "markdown",
   "metadata": {},
   "source": [
    "## Show the Accuracy curve"
   ]
  },
  {
   "cell_type": "code",
   "execution_count": 14,
   "metadata": {
    "collapsed": false,
    "scrolled": true
   },
   "outputs": [
    {
     "data": {
      "image/png": "[encoded data removed]",
      "text/plain": [
       "<Figure size 432x288 with 1 Axes>"
      ]
     },
     "metadata": {
      "needs_background": "light"
     },
     "output_type": "display_data"
    }
   ],
   "source": [
    "plt.plot(x,acc_train,label='train')\n",
    "plt.plot(x,acc_eval,label='eval')\n",
    "plt.title('FaceNet accuracy curve')\n",
    "plt.xlabel('Epoch')\n",
    "plt.ylabel('accuracy')\n",
    "plt.legend()\n",
    "plt.show()"
   ]
  },
  {
   "cell_type": "markdown",
   "metadata": {},
   "source": [
    "## Show the ROC curve"
   ]
  },
  {
   "cell_type": "code",
   "execution_count": 15,
   "metadata": {
    "collapsed": false
   },
   "outputs": [
    {
     "data": {
      "image/png": "[encoded data removed]",
      "text/plain": [
       "<Figure size 432x288 with 1 Axes>"
      ]
     },
     "metadata": {
      "needs_background": "light"
     },
     "output_type": "display_data"
    }
   ],
   "source": [
    "plt.plot(train_roc[0],train_roc[1],label='train')\n",
    "plt.plot(eval_roc[0],eval_roc[1],label='eval')\n",
    "plt.title('FaceNet ROC')\n",
    "plt.xlabel('False Positive Rate')\n",
    "plt.ylabel('True Positive Rate')\n",
    "plt.legend()\n",
    "plt.show()"
   ]
  },
  {
   "cell_type": "markdown",
   "metadata": {},
   "source": [
    "## Show the change of the number of hard negatives"
   ]
  },
  {
   "cell_type": "code",
   "execution_count": 16,
   "metadata": {
    "collapsed": false
   },
   "outputs": [
    {
     "data": {
      "image/png": "[encoded data removed]",
      "text/plain": [
       "<Figure size 432x288 with 1 Axes>"
      ]
     },
     "metadata": {
      "needs_background": "light"
     },
     "output_type": "display_data"
    }
   ],
   "source": [
    "plt.plot(np.arange(len(hard_example_num)),hard_example_num,label='train')\n",
    "plt.title('Number of hard negatives in each epoch')\n",
    "plt.xlabel('Epoch')\n",
    "plt.ylabel('Hard Negatives')\n",
    "plt.legend()\n",
    "plt.show()"
   ]
  }
 ],
 "metadata": {
  "anaconda-cloud": {},
  "kernelspec": {
   "display_name": "Python [default]",
   "language": "python",
   "name": "python3"
  },
  "language_info": {
   "codemirror_mode": {
    "name": "ipython",
    "version": 3
   },
   "file_extension": ".py",
   "mimetype": "text/x-python",
   "name": "python",
   "nbconvert_exporter": "python",
   "pygments_lexer": "ipython3",
   "version": "3.5.6"
  }
 },
 "nbformat": 4,
 "nbformat_minor": 4
}
