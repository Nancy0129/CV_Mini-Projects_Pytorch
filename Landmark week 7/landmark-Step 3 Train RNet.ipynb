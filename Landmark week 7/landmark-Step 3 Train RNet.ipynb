{
 "cells": [
  {
   "cell_type": "markdown",
   "metadata": {},
   "source": [
    "- In this notebook, I trained the RNet, which is the second part of the model\n",
    "- As I mentioned in the first notebook (step 1), I will not show the repetitive parts. "
   ]
  },
  {
   "cell_type": "markdown",
   "metadata": {},
   "source": [
    "## Read RNet txt file\n",
    "- In this part, it reads the txt file generated from the step 2.\n",
    "- The format of the txt file is:\n",
    "        image_path * label, gt_x1, gt_y1, gt_x2, gt_y2, cr_x1, cr_y1, cr_x2, cr_y2 + ... + label, gt_x1, gt_y1, gt_x2, gt_y2, cr_x1, cr_y1, cr_x2, cr_y2 * \\n\n",
    "- The output of this function is in the format:\n",
    "        [image path, [box],[landmark]]"
   ]
  },
  {
   "cell_type": "code",
   "execution_count": 37,
   "metadata": {
    "collapsed": true
   },
   "outputs": [],
   "source": [
    "class InplaceDataset(data.Dataset):\n",
    "    def __init__(self,  img_faces, cropsize):\n",
    "        \n",
    "        def cal_offset(face, box):\n",
    "            offset = [\n",
    "                (face[0] - box[0]) / float(box[2] - box[0]),\n",
    "                (face[1] - box[1]) / float(box[3] - box[1]),\n",
    "                (face[2] - box[2]) / float(box[2] - box[0]),\n",
    "                (face[3] - box[3]) / float(box[3] - box[1]),\n",
    "                ]\n",
    "            return offset  \n",
    "        def cal_landmark_offset(box, ldmk):\n",
    "            if ldmk is None or box is None:\n",
    "                return []\n",
    "            else:\n",
    "                minx, miny = box[0], box[1]\n",
    "                w, h = box[2] - box[0], box[3] - box[1]\n",
    "                ldmk_offset = [(ldmk[i] - [minx, miny][i % 2]) / float([w, h][i % 2]) for i in range(len(ldmk))]\n",
    "                return ldmk_offset\n",
    "        \n",
    "        self.img_path=[]\n",
    "        self.gt_box=[]\n",
    "        self.ldmk=[]\n",
    "        self.boxes=[]\n",
    "        \n",
    "        for img_face in img_faces:\n",
    "\n",
    "            img_path=img_face[0]\n",
    "            gt_box=[int(j) for j in img_face[1].split(',')]\n",
    "            ldmk=[float(j) for j in img_face[2].split(',')]\n",
    "            boxes=img_face[3]\n",
    "            crop_offset_ldmk=[]\n",
    "            for box in boxes:\n",
    "                try:\n",
    "                    label=box[0]\n",
    "                    label=[1.0 if label in ['p', 'pf', 'l'] else 0.0]\n",
    "                    crop_box=[int(j) for j in box[1:5]]\n",
    "                    offset=cal_offset(gt_box, crop_box)\n",
    "                    ldmk_offset=cal_landmark_offset(crop_box, ldmk)  \n",
    "                    crop_offset_ldmk.append([label,crop_box,offset,ldmk_offset])\n",
    "                except:\n",
    "                    continue\n",
    "            if len(crop_offset_ldmk) != 0:\n",
    "                self.img_path.append(img_path)\n",
    "                self.gt_box.append(gt_box)\n",
    "                self.ldmk.append(ldmk)\n",
    "                self.boxes.append(crop_offset_ldmk)\n",
    "            else:\n",
    "                print(img_path,'no box')\n",
    "\n",
    "        self.crop_size = cropsize\n",
    "        print('===> data set size:{}'.format(self.__len__()))       \n",
    "\n",
    "       \n",
    "      \n",
    "    def __getitem__(self, index):\n",
    "        \n",
    "        img= np.array(Image.open(self.img_path[index]).convert('RGB'))\n",
    "        crop_offset_ldmk=self.boxes[index]\n",
    "        label,crop_box,offset,ldmk=crop_offset_ldmk[random.randint(0,len(crop_offset_ldmk))]\n",
    "        landmark_flag = torch.FloatTensor([1.0 if label[0]==1.0 else 0.0])\n",
    "        \n",
    "        label=torch.FloatTensor(label)\n",
    "        offset=torch.FloatTensor(offset)\n",
    "        \n",
    "        crop_img = img[crop_box[1]:crop_box[3], crop_box[0]:crop_box[2], :]\n",
    "        crop_img = Image.fromarray(crop_img, mode='RGB').resize((self.crop_size , self.crop_size ), resample=PIL.Image.BILINEAR)    \n",
    "        img_tensor = transforms.ToTensor()(crop_img)     \n",
    "\n",
    "       \n",
    "        landmark = torch.FloatTensor(ldmk)\n",
    "        \n",
    "        return (img_tensor, label, offset, landmark_flag, landmark)\n",
    "\n",
    "    def __len__(self):\n",
    "        return len(self.img_path)"
   ]
  },
  {
   "cell_type": "markdown",
   "metadata": {},
   "source": [
    "## RNet Model"
   ]
  },
  {
   "cell_type": "code",
   "execution_count": 38,
   "metadata": {
    "collapsed": true
   },
   "outputs": [],
   "source": [
    "def weights_init(m):\n",
    "    if isinstance(m, nn.Conv2d) or isinstance(m, nn.Linear):\n",
    "        nn.init.xavier_uniform_(m.weight.data)\n",
    "        nn.init.constant_(m.bias, 0.1)\n",
    "\n",
    "class R_Net(nn.Module):\n",
    "    def __init__(self):\n",
    "        super(R_Net, self).__init__()\n",
    "        self.pre_layer = nn.Sequential(\n",
    "            # 24x24x3\n",
    "            nn.Conv2d(3, 28, kernel_size=3, stride=1),  # conv1\n",
    "            nn.PReLU(),  # prelu1\n",
    "            # 22x22x28\n",
    "            nn.MaxPool2d(kernel_size=3, stride=2),  # pool1\n",
    "            # 10x10x28\n",
    "            nn.Conv2d(28, 48, kernel_size=3, stride=1),  # conv2\n",
    "            nn.PReLU(),  # prelu2\n",
    "            # 8x8x48\n",
    "            nn.MaxPool2d(kernel_size=3, stride=2),  # pool2\n",
    "            # 3x3x48\n",
    "            nn.Conv2d(48, 64, kernel_size=2, stride=1),  # conv3\n",
    "            # 2x2x64\n",
    "            nn.PReLU()  # prelu3\n",
    "        )\n",
    "        # 2x2x64\n",
    "        self.conv4 = nn.Linear(64 * 2 * 2, 128)  # conv4\n",
    "        # 128\n",
    "        self.prelu4 = nn.PReLU()  # prelu4\n",
    "        # detection\n",
    "        self.conv5_1 = nn.Linear(128, 1)\n",
    "        # bounding box regression\n",
    "        self.conv5_2 = nn.Linear(128, 4)\n",
    "        # lanbmark localization\n",
    "        self.conv5_3 = nn.Linear(128, 10)\n",
    "        # weight initiation weih xavier\n",
    "        self.apply(weights_init)\n",
    "\n",
    "    def forward(self, x):\n",
    "        x = self.pre_layer(x)\n",
    "        x = x.view(x.size(0), -1)\n",
    "        x = self.conv4(x)\n",
    "        x = self.prelu4(x)\n",
    "        det = torch.sigmoid(self.conv5_1(x))\n",
    "        box = self.conv5_2(x)\n",
    "        landmark = self.conv5_3(x)\n",
    "        return det, box, landmark\n",
    "\n"
   ]
  },
  {
   "cell_type": "markdown",
   "metadata": {},
   "source": [
    "## Training"
   ]
  },
  {
   "cell_type": "code",
   "execution_count": 41,
   "metadata": {
    "collapsed": false
   },
   "outputs": [
    {
     "name": "stdout",
     "output_type": "stream",
     "text": [
      "../input/facial-point-detection/Facial_Point_Detection/net_7876/_-20_1332_2.jpg no box\n",
      "../input/facial-point-detection/Facial_Point_Detection/net_7876/1118_1_0.jpg no box\n",
      "===> data set size:9996\n",
      "../input/facial-point-detection/Facial_Point_Detection/net_7876/7879_3_0.jpg no box\n",
      "===> data set size:3440\n"
     ]
    },
    {
     "data": {
      "text/plain": [
       "<All keys matched successfully>"
      ]
     },
     "execution_count": 41,
     "metadata": {},
     "output_type": "execute_result"
    }
   ],
   "source": [
    "DEVICE = torch.device('cuda:0')\n",
    "if torch.cuda.is_available():\n",
    "    torch.set_default_tensor_type('torch.cuda.FloatTensor')\n",
    "else:\n",
    "    torch.set_default_tensor_type('torch.FloatTensor')\n",
    "train_txt_path='../input/landmark/ldmk_rnet_train_data.txt'\n",
    "eval_txt_path='../input/landmark/ldmk_rnet_eval_data.txt'\n",
    "train_img_path='../input/facial-point-detection'\n",
    "eval_img_path='../input/facial-point-detection'\n",
    "rnet_weight_path='../input/landmark/rnet_12798_60_2_pretrained.pkl'\n",
    "train_num=None\n",
    "eval_num=None\n",
    "class_data_augment = 3 \n",
    "LR = 0.001\n",
    "EPOCH = 60\n",
    "BATCH_SIZE = 32\n",
    "NUM_WORKS = 8\n",
    "Rnet_loss_config = [1.0, 0.5, 0.5]\n",
    "\n",
    "train_img_faces = create_rnet_data_txt_parser(train_txt_path,train_img_path ,num_data=train_num)\n",
    "eval_img_faces = create_rnet_data_txt_parser(eval_txt_path,eval_img_path ,num_data=eval_num)\n",
    "train_IDS=InplaceDataset(train_img_faces, cropsize=24)\n",
    "eval_IDS=InplaceDataset(eval_img_faces, cropsize=24)\n",
    "Train_Loader=DataLoader(train_IDS,batch_size=BATCH_SIZE,shuffle=True,num_workers=NUM_WORKS,pin_memory=False)\n",
    "Eval_Loader=DataLoader(eval_IDS,batch_size=BATCH_SIZE,shuffle=True,num_workers=NUM_WORKS,pin_memory=False)\n",
    "train_num=len(train_IDS)\n",
    "eval_num=len(eval_IDS)\n",
    "\n",
    "net=R_Net().cuda()\n",
    "net.load_state_dict(torch.load(rnet_weight_path))"
   ]
  },
  {
   "cell_type": "code",
   "execution_count": 42,
   "metadata": {
    "collapsed": false
   },
   "outputs": [
    {
     "name": "stdout",
     "output_type": "stream",
     "text": [
      "===> epoch:0\t| train_loss:0.18051167\t| time:33.15686226s\n",
      "                | eval_loss:0.16385412\t| time:11.12037428s\n",
      "===> epoch:1\t| train_loss:0.14635302\t| time:32.55509525s\n",
      "                | eval_loss:0.14256651\t| time:11.50428589s\n",
      "===> epoch:2\t| train_loss:0.11720671\t| time:32.08153581s\n",
      "                | eval_loss:0.14347271\t| time:11.07354555s\n",
      "===> epoch:3\t| train_loss:0.12894076\t| time:33.41896730s\n",
      "                | eval_loss:0.11297615\t| time:10.85388100s\n",
      "===> epoch:4\t| train_loss:0.11947762\t| time:33.57317485s\n",
      "                | eval_loss:0.12907693\t| time:10.97318825s\n",
      "===> epoch:5\t| train_loss:0.11033941\t| time:32.13132254s\n",
      "                | eval_loss:0.12753739\t| time:12.33951402s\n",
      "===> epoch:6\t| train_loss:0.11668520\t| time:31.99075719s\n",
      "                | eval_loss:0.10573435\t| time:10.91216737s\n",
      "===> epoch:7\t| train_loss:0.10203523\t| time:33.32326313s\n",
      "                | eval_loss:0.11218484\t| time:10.76728903s\n",
      "===> epoch:8\t| train_loss:0.09419402\t| time:33.54298444s\n",
      "                | eval_loss:0.15520343\t| time:11.05012199s\n",
      "===> epoch:9\t| train_loss:0.10945803\t| time:31.93039747s\n",
      "                | eval_loss:0.12012645\t| time:11.85588285s\n",
      "===> epoch:10\t| train_loss:0.09799782\t| time:32.71317621s\n",
      "                | eval_loss:0.10674071\t| time:11.22148497s\n",
      "===> epoch:11\t| train_loss:0.09305983\t| time:33.58541075s\n",
      "                | eval_loss:0.13552105\t| time:10.86415781s\n",
      "===> epoch:12\t| train_loss:0.09089388\t| time:33.39788002s\n",
      "                | eval_loss:0.11053599\t| time:11.20056551s\n",
      "===> epoch:13\t| train_loss:0.08962675\t| time:32.16420054s\n",
      "                | eval_loss:0.10510342\t| time:11.38412116s\n",
      "===> epoch:14\t| train_loss:0.08417402\t| time:32.80130302s\n",
      "                | eval_loss:0.09631290\t| time:10.92266541s\n",
      "===> epoch:15\t| train_loss:0.09907821\t| time:33.42664400s\n",
      "                | eval_loss:0.10991827\t| time:11.49792165s\n",
      "===> epoch:16\t| train_loss:0.09309411\t| time:33.41341620s\n",
      "                | eval_loss:0.11024354\t| time:11.20604042s\n",
      "===> epoch:17\t| train_loss:0.09160140\t| time:32.15389875s\n",
      "                | eval_loss:0.09482967\t| time:11.22786346s\n",
      "===> epoch:18\t| train_loss:0.08514187\t| time:33.84931694s\n",
      "                | eval_loss:0.10208413\t| time:11.02151591s\n",
      "===> epoch:19\t| train_loss:0.07812268\t| time:33.47338016s\n",
      "                | eval_loss:0.09779394\t| time:11.14366416s\n",
      "===> epoch:20\t| train_loss:0.08822430\t| time:32.74614507s\n",
      "                | eval_loss:0.09067085\t| time:11.83368154s\n",
      "===> epoch:21\t| train_loss:0.07489702\t| time:32.23948171s\n",
      "                | eval_loss:0.08444281\t| time:11.00265770s\n",
      "===> epoch:22\t| train_loss:0.08887548\t| time:33.28988755s\n",
      "                | eval_loss:0.08776556\t| time:11.20542628s\n",
      "===> epoch:23\t| train_loss:0.08392488\t| time:33.64496579s\n",
      "                | eval_loss:0.09780431\t| time:11.03812469s\n",
      "===> epoch:24\t| train_loss:0.07747287\t| time:32.22430171s\n",
      "                | eval_loss:0.09321826\t| time:12.06232164s\n",
      "===> epoch:25\t| train_loss:0.07355480\t| time:32.65296467s\n",
      "                | eval_loss:0.09168082\t| time:11.19346201s\n",
      "===> epoch:26\t| train_loss:0.07636454\t| time:33.35768127s\n",
      "                | eval_loss:0.08427022\t| time:10.95095554s\n",
      "===> epoch:27\t| train_loss:0.08010941\t| time:33.22656039s\n",
      "                | eval_loss:0.10236654\t| time:11.27036592s\n",
      "===> epoch:28\t| train_loss:0.07409461\t| time:32.03035398s\n",
      "                | eval_loss:0.09265167\t| time:12.12914931s\n",
      "===> epoch:29\t| train_loss:0.07665675\t| time:32.42013367s\n",
      "                | eval_loss:0.07589632\t| time:24.47040951s\n",
      "===> epoch:30\t| train_loss:0.07736737\t| time:32.90224637s\n",
      "                | eval_loss:0.09784469\t| time:10.85295581s\n",
      "Epoch    32: reducing learning rate of group 0 to 1.0000e-04.\n",
      "===> epoch:31\t| train_loss:0.07770945\t| time:47.90673026s\n",
      "                | eval_loss:0.07907972\t| time:11.02867594s\n",
      "===> epoch:32\t| train_loss:0.06654813\t| time:33.42565018s\n",
      "                | eval_loss:0.08739381\t| time:10.87929574s\n",
      "===> epoch:33\t| train_loss:0.05807766\t| time:32.48141619s\n",
      "                | eval_loss:0.06919163\t| time:11.92590178s\n",
      "===> epoch:34\t| train_loss:0.05592909\t| time:31.96405405s\n",
      "                | eval_loss:0.09108025\t| time:10.80585093s\n",
      "===> epoch:35\t| train_loss:0.06705796\t| time:33.43124372s\n",
      "                | eval_loss:0.08279730\t| time:11.32747097s\n",
      "===> epoch:36\t| train_loss:0.05759195\t| time:33.11711751s\n",
      "                | eval_loss:0.08154824\t| time:11.17153463s\n",
      "===> epoch:37\t| train_loss:0.05855318\t| time:32.08431940s\n",
      "                | eval_loss:0.08706436\t| time:12.36040853s\n",
      "===> epoch:38\t| train_loss:0.05782624\t| time:32.39037112s\n",
      "                | eval_loss:0.07438011\t| time:11.15555900s\n",
      "===> epoch:39\t| train_loss:0.06149130\t| time:33.47041613s\n",
      "                | eval_loss:0.07524690\t| time:10.91078031s\n",
      "===> epoch:40\t| train_loss:0.05222884\t| time:33.37030155s\n",
      "                | eval_loss:0.08135796\t| time:11.40650713s\n"
     ]
    }
   ],
   "source": [
    "train_losses,eval_losses,rnet=train_net(net, net_name='rnet',  loss_config=Rnet_loss_config)"
   ]
  },
  {
   "cell_type": "markdown",
   "metadata": {},
   "source": [
    "## Show the Loss Curve"
   ]
  },
  {
   "cell_type": "code",
   "execution_count": 43,
   "metadata": {
    "collapsed": false
   },
   "outputs": [
    {
     "data": {
      "image/png": "[encoded data removed]",
      "text/plain": [
       "<Figure size 432x288 with 1 Axes>"
      ]
     },
     "metadata": {
      "needs_background": "light"
     },
     "output_type": "display_data"
    }
   ],
   "source": [
    "x=np.arange(len(train_losses))\n",
    "plt.plot(x,train_losses,label='train')\n",
    "plt.plot(x,eval_losses,label='eval')\n",
    "plt.title('Landmark RNet Train')\n",
    "plt.xlabel('Epoch')\n",
    "plt.ylabel('Loss')\n",
    "plt.legend()\n",
    "plt.show()"
   ]
  }
 ],
 "metadata": {
  "anaconda-cloud": {},
  "kernelspec": {
   "display_name": "Python [default]",
   "language": "python",
   "name": "python3"
  },
  "language_info": {
   "codemirror_mode": {
    "name": "ipython",
    "version": 3
   },
   "file_extension": ".py",
   "mimetype": "text/x-python",
   "name": "python",
   "nbconvert_exporter": "python",
   "pygments_lexer": "ipython3",
   "version": "3.5.6"
  }
 },
 "nbformat": 4,
 "nbformat_minor": 4
}
