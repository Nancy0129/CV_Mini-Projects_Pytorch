{
 "cells": [
  {
   "cell_type": "markdown",
   "metadata": {},
   "source": [
    "- In this notebook, I trained the ONet, which is the last part of the model\n",
    "- As I mentioned in the first notebook (step 1), I will not show the repetitive parts. "
   ]
  },
  {
   "cell_type": "markdown",
   "metadata": {},
   "source": [
    "## Read ONet txt file\n",
    "- In this part, it reads the txt file generated from the step 4.\n",
    "- The format of the txt file is:\n",
    "        image_path * label, gt_x1, gt_y1, gt_x2, gt_y2, cr_x1, cr_y1, cr_x2, cr_y2 + ... + label, gt_x1, gt_y1, gt_x2, gt_y2, cr_x1, cr_y1, cr_x2, cr_y2 * \\n\n",
    "- The output of this function is in the format:\n",
    "        [image path, [box],[landmark]]"
   ]
  },
  {
   "cell_type": "code",
   "execution_count": 3,
   "metadata": {
    "collapsed": true
   },
   "outputs": [],
   "source": [
    "def create_onet_data_txt_parser(txt_path, img_dir,num_data=5000):\n",
    "\n",
    "    if osp.exists(txt_path):\n",
    "        img_faces = []\n",
    "        with open(txt_path, 'r') as f:\n",
    "            l = []\n",
    "            lines = list(map(lambda line: line.strip().split('\\n'), f))\n",
    "            lines = [i[0] for i in lines]   \n",
    "            shuffle(lines)\n",
    "            img_count=0\n",
    "            for line in lines:     \n",
    "                if num_data is not None and img_count>=num_data:\n",
    "                    break\n",
    "                img_label_gt_crop=line.split('*')  \n",
    "                real_img_path=img_label_gt_crop[0]\n",
    "                gt_box=img_label_gt_crop[1]\n",
    "                ldmk=img_label_gt_crop[2]\n",
    "                boxes=img_label_gt_crop[3]\n",
    "                boxes=[i.split(',') for i in boxes.split('+')]\n",
    "\n",
    "                if osp.exists(real_img_path):\n",
    "                    try:\n",
    "                        Image.open(real_img_path).verify()\n",
    "                        img_faces.append([real_img_path, gt_box,ldmk,boxes]) \n",
    "                        img_count+=1\n",
    "                        \n",
    "                    except:\n",
    "                        print(\"*** warning:cannot open\",real_img_path)\n",
    "\n",
    "                else:\n",
    "                    print(\"*** warning:image path invalid\",real_img_path)\n",
    "\n",
    "                \n",
    "\n",
    "        return img_faces\n",
    "    else:\n",
    "        print('*** warning:WILDER_FACE txt file not exist!')\n"
   ]
  },
  {
   "cell_type": "markdown",
   "metadata": {},
   "source": [
    "## Create the Inplace Dataset for ONet\n",
    "- The input of this part is generated from the **create_onet_data_txt_parser** function\n",
    "\n",
    "- The output of the **self.\\__getitem \\__ ** will be:\n",
    "      (img_tensor, label, offset, landmark_flag, landmark)\n",
    "      \n",
    "- The **self.\\__getitem \\__ ** do the following things:  \n",
    "\n",
    "    * It opens the corresponding image, and gets the figures of:\n",
    "            label:            1 (if have face), 0 (else)\n",
    "            ground truth boxes:  (gt_x1, gt_y1, gt_x2, gt_y2) \n",
    "            facial landmark:     (Lx1,Ly1,Lx2,Ly2,Lx3,Ly3,Lx4,Ly4,Lx5,Ly5)\n",
    "            cropped boxes:      (cr_x1, cr_y1, cr_x2, cr_y2)\n",
    "    * It randomly chooses a crop box from the list of crop boxes\n",
    "    * It crops the image according to the seleted crop box\n",
    "    * It calulated the offsets of the box and landmark"
   ]
  },
  {
   "cell_type": "code",
   "execution_count": 4,
   "metadata": {
    "collapsed": true
   },
   "outputs": [],
   "source": [
    "class InplaceDataset(data.Dataset):\n",
    "    def __init__(self,  img_faces, cropsize):\n",
    "        \n",
    "        def cal_offset(face, box):\n",
    "            offset = [\n",
    "                (face[0] - box[0]) / float(box[2] - box[0]),\n",
    "                (face[1] - box[1]) / float(box[3] - box[1]),\n",
    "                (face[2] - box[2]) / float(box[2] - box[0]),\n",
    "                (face[3] - box[3]) / float(box[3] - box[1]),\n",
    "                ]\n",
    "            return offset  \n",
    "        def cal_landmark_offset(box, ldmk):\n",
    "            if ldmk is None or box is None:\n",
    "                return []\n",
    "            else:\n",
    "                minx, miny = box[0], box[1]\n",
    "                w, h = box[2] - box[0], box[3] - box[1]\n",
    "                ldmk_offset = [(ldmk[i] - [minx, miny][i % 2]) / float([w, h][i % 2]) for i in range(len(ldmk))]\n",
    "                return ldmk_offset\n",
    "        \n",
    "        self.img_path=[]\n",
    "        self.gt_box=[]\n",
    "        self.ldmk=[]\n",
    "        self.boxes=[]\n",
    "        \n",
    "        for img_face in img_faces:\n",
    "\n",
    "            img_path=img_face[0]\n",
    "            gt_box=[int(j) for j in img_face[1].split(',')]\n",
    "            ldmk=[float(j) for j in img_face[2].split(',')]\n",
    "            boxes=img_face[3]\n",
    "            crop_offset_ldmk=[]\n",
    "            for box in boxes:\n",
    "                try:\n",
    "                    label=box[0]\n",
    "                    label=[1.0 if label in ['p', 'pf', 'l'] else 0.0]\n",
    "                    crop_box=[int(j) for j in box[1:5]]\n",
    "                    offset=cal_offset(gt_box, crop_box)\n",
    "                    ldmk_offset=cal_landmark_offset(crop_box, ldmk)  \n",
    "                    crop_offset_ldmk.append([label,crop_box,offset,ldmk_offset])\n",
    "                except:\n",
    "                    continue\n",
    "            if len(crop_offset_ldmk) != 0:\n",
    "                self.img_path.append(img_path)\n",
    "                self.gt_box.append(gt_box)\n",
    "                self.ldmk.append(ldmk)\n",
    "                self.boxes.append(crop_offset_ldmk)\n",
    "            else:\n",
    "                print(img_path,'no box')\n",
    "\n",
    "        self.crop_size = cropsize\n",
    "        print('===> data set size:{}'.format(self.__len__()))       \n",
    "\n",
    "       \n",
    "      \n",
    "    def __getitem__(self, index):\n",
    "        \n",
    "        img= np.array(Image.open(self.img_path[index]).convert('RGB'))\n",
    "        crop_offset_ldmk=self.boxes[index]\n",
    "        label,crop_box,offset,ldmk=crop_offset_ldmk[random.randint(0,len(crop_offset_ldmk))]\n",
    "        landmark_flag = torch.FloatTensor([1.0 if label[0]==1.0 else 0.0])\n",
    "        \n",
    "        label=torch.FloatTensor(label)\n",
    "        offset=torch.FloatTensor(offset)\n",
    "        \n",
    "        crop_img = img[crop_box[1]:crop_box[3], crop_box[0]:crop_box[2], :]\n",
    "        crop_img = Image.fromarray(crop_img, mode='RGB').resize((self.crop_size , self.crop_size ), resample=PIL.Image.BILINEAR)    \n",
    "        img_tensor = transforms.ToTensor()(crop_img)     \n",
    "\n",
    "       \n",
    "        landmark = torch.FloatTensor(ldmk)\n",
    "        \n",
    "        return (img_tensor, label, offset, landmark_flag, landmark)\n",
    "\n",
    "    def __len__(self):\n",
    "        return len(self.img_path)"
   ]
  },
  {
   "cell_type": "markdown",
   "metadata": {},
   "source": [
    "## ONet Model"
   ]
  },
  {
   "cell_type": "code",
   "execution_count": 5,
   "metadata": {
    "collapsed": true
   },
   "outputs": [],
   "source": [
    "def weights_init(m):\n",
    "    if isinstance(m, nn.Conv2d) or isinstance(m, nn.Linear):\n",
    "        nn.init.xavier_uniform_(m.weight.data)\n",
    "        nn.init.constant_(m.bias, 0.1)\n",
    "\n",
    "\n",
    "class O_Net(nn.Module):\n",
    "    def __init__(self):\n",
    "        super(O_Net, self).__init__()\n",
    "        self.pre_layer = nn.Sequential(\n",
    "            nn.Conv2d(3, 32, kernel_size=3, stride=1),  # conv1\n",
    "            nn.PReLU(),  # prelu1\n",
    "            nn.MaxPool2d(kernel_size=3, stride=2),  # pool1\n",
    "            nn.Conv2d(32, 64, kernel_size=3, stride=1),  # conv2\n",
    "            nn.PReLU(),  # prelu2\n",
    "            nn.MaxPool2d(kernel_size=3, stride=2),  # pool2\n",
    "            nn.Conv2d(64, 64, kernel_size=3, stride=1),  # conv3\n",
    "            nn.PReLU(),  # prelu3\n",
    "            nn.MaxPool2d(kernel_size=2, stride=2),  # pool3\n",
    "            nn.Conv2d(64, 128, kernel_size=2, stride=1),  # conv4\n",
    "            nn.PReLU()  # prelu4\n",
    "        )\n",
    "        self.conv5 = nn.Linear(128 * 2 * 2, 256)  # conv5\n",
    "        self.prelu5 = nn.PReLU()  # prelu5\n",
    "        # detection\n",
    "        self.conv6_1 = nn.Linear(256, 1)\n",
    "        # bounding box regression\n",
    "        self.conv6_2 = nn.Linear(256, 4)\n",
    "        # lanbmark localization\n",
    "        self.conv6_3 = nn.Linear(256, 10)\n",
    "        # weight initiation weih xavier\n",
    "        self.apply(weights_init)\n",
    "\n",
    "    def forward(self, x):\n",
    "        x = self.pre_layer(x)\n",
    "        x = x.view(x.size(0), -1)\n",
    "        x = self.conv5(x)\n",
    "        x = self.prelu5(x)\n",
    "        # detection\n",
    "        det = torch.sigmoid(self.conv6_1(x))\n",
    "        box = self.conv6_2(x)\n",
    "        landmark = self.conv6_3(x)\n",
    "        return det, box, landmark\n",
    "\n",
    "\n"
   ]
  },
  {
   "cell_type": "markdown",
   "metadata": {},
   "source": [
    "## Training\n",
    "\n",
    "- If there is no prediction box, it will print:\n",
    "         \"image_path no box\""
   ]
  },
  {
   "cell_type": "code",
   "execution_count": 8,
   "metadata": {
    "collapsed": false
   },
   "outputs": [
    {
     "name": "stdout",
     "output_type": "stream",
     "text": [
      "../input/facial-point-detection/Facial_Point_Detection/net_7876/1118_1_0.jpg no box\n",
      "../input/facial-point-detection/Facial_Point_Detection/net_7876/_-20_1332_2.jpg no box\n",
      "../input/facial-point-detection/Facial_Point_Detection/net_7876/_-20_1483_1.jpg no box\n",
      "===> data set size:9995\n",
      "../input/facial-point-detection/Facial_Point_Detection/net_7876/7879_3_0.jpg no box\n",
      "===> data set size:3435\n"
     ]
    },
    {
     "data": {
      "text/plain": [
       "<All keys matched successfully>"
      ]
     },
     "execution_count": 8,
     "metadata": {},
     "output_type": "execute_result"
    }
   ],
   "source": [
    "DEVICE = torch.device('cuda:0')\n",
    "if torch.cuda.is_available():\n",
    "    torch.set_default_tensor_type('torch.cuda.FloatTensor')\n",
    "else:\n",
    "    torch.set_default_tensor_type('torch.FloatTensor')\n",
    "train_txt_path='../input/landmark/ldmk_onet_train_data.txt'\n",
    "eval_txt_path='../input/landmark/ldmk_onet_eval_data.txt'\n",
    "train_img_path='../input/facial-point-detection'\n",
    "eval_img_path='../input/facial-point-detection'\n",
    "onet_weight_path='../input/landmark/onet_12708_60_2.pkl'\n",
    "train_num=None\n",
    "eval_num=None\n",
    "class_data_augment = 3 \n",
    "LR = 0.001\n",
    "EPOCH = 60\n",
    "BATCH_SIZE = 32\n",
    "NUM_WORKS = 8\n",
    "Rnet_loss_config = [1.0, 0.5, 1.0]\n",
    "\n",
    "train_img_faces = create_onet_data_txt_parser(train_txt_path,train_img_path ,num_data=train_num)\n",
    "eval_img_faces = create_onet_data_txt_parser(eval_txt_path,eval_img_path ,num_data=eval_num)\n",
    "train_IDS=InplaceDataset(train_img_faces, cropsize=48)\n",
    "eval_IDS=InplaceDataset(eval_img_faces, cropsize=48)\n",
    "Train_Loader=DataLoader(train_IDS,batch_size=BATCH_SIZE,shuffle=True,num_workers=NUM_WORKS,pin_memory=False)\n",
    "Eval_Loader=DataLoader(eval_IDS,batch_size=BATCH_SIZE,shuffle=True,num_workers=NUM_WORKS,pin_memory=False)\n",
    "train_num=len(train_IDS)\n",
    "eval_num=len(eval_IDS)\n",
    "\n",
    "net=O_Net().cuda()\n",
    "net.load_state_dict(torch.load(onet_weight_path))"
   ]
  },
  {
   "cell_type": "code",
   "execution_count": 9,
   "metadata": {
    "collapsed": false
   },
   "outputs": [
    {
     "name": "stdout",
     "output_type": "stream",
     "text": [
      "===> epoch:0\t| train_loss:0.20185278\t| time:34.99037102s\n",
      "                | eval_loss:0.15683113\t| time:11.26207389s\n",
      "===> epoch:1\t| train_loss:0.13381252\t| time:34.43137759s\n",
      "                | eval_loss:0.14448112\t| time:11.66334475s\n",
      "===> epoch:2\t| train_loss:0.12436798\t| time:33.69353776s\n",
      "                | eval_loss:0.12028574\t| time:11.69709985s\n",
      "===> epoch:3\t| train_loss:0.11492737\t| time:34.41008944s\n",
      "                | eval_loss:0.11984591\t| time:11.77302263s\n",
      "===> epoch:4\t| train_loss:0.11002771\t| time:34.72335959s\n",
      "                | eval_loss:0.13410058\t| time:11.48349234s\n",
      "===> epoch:5\t| train_loss:0.11807307\t| time:34.60082630s\n",
      "                | eval_loss:0.14071780\t| time:11.55943728s\n",
      "===> epoch:6\t| train_loss:0.10884236\t| time:33.63942360s\n",
      "                | eval_loss:0.12892421\t| time:12.17372432s\n",
      "===> epoch:7\t| train_loss:0.10850325\t| time:33.76798345s\n",
      "                | eval_loss:0.14369320\t| time:11.31702124s\n",
      "===> epoch:8\t| train_loss:0.10490859\t| time:34.96860804s\n",
      "                | eval_loss:0.11023595\t| time:11.41912919s\n",
      "===> epoch:9\t| train_loss:0.09224456\t| time:34.74045182s\n",
      "                | eval_loss:0.11959184\t| time:11.28330247s\n",
      "===> epoch:10\t| train_loss:0.09936143\t| time:33.80154355s\n",
      "                | eval_loss:0.10281827\t| time:12.56473281s\n",
      "===> epoch:11\t| train_loss:0.09293393\t| time:33.68426917s\n",
      "                | eval_loss:0.12364488\t| time:11.41352707s\n",
      "===> epoch:12\t| train_loss:0.09223140\t| time:34.52450517s\n",
      "                | eval_loss:0.11488891\t| time:11.49148921s\n",
      "===> epoch:13\t| train_loss:0.08767835\t| time:34.98192558s\n",
      "                | eval_loss:0.11009402\t| time:11.22775016s\n",
      "===> epoch:14\t| train_loss:0.09891580\t| time:34.05807679s\n",
      "                | eval_loss:0.10770358\t| time:12.00154946s\n",
      "===> epoch:15\t| train_loss:0.08737281\t| time:33.85193103s\n",
      "                | eval_loss:0.10559372\t| time:11.59864807s\n",
      "===> epoch:16\t| train_loss:0.08558842\t| time:34.51289956s\n",
      "                | eval_loss:0.10103515\t| time:11.25754593s\n",
      "===> epoch:17\t| train_loss:0.08693427\t| time:35.06898000s\n",
      "                | eval_loss:0.11424401\t| time:11.46845429s\n",
      "===> epoch:18\t| train_loss:0.09240145\t| time:34.55720484s\n",
      "                | eval_loss:0.11256916\t| time:11.55735607s\n",
      "===> epoch:19\t| train_loss:0.08787867\t| time:33.48454624s\n",
      "                | eval_loss:0.12433070\t| time:11.77596859s\n",
      "===> epoch:20\t| train_loss:0.08897477\t| time:34.43696045s\n",
      "                | eval_loss:0.10446309\t| time:11.52768360s\n",
      "===> epoch:21\t| train_loss:0.08093492\t| time:34.59338902s\n",
      "                | eval_loss:0.11515185\t| time:11.23099108s\n",
      "===> epoch:22\t| train_loss:0.08326289\t| time:34.78135892s\n",
      "                | eval_loss:0.11303851\t| time:11.71338134s\n",
      "===> epoch:23\t| train_loss:0.07233821\t| time:33.44278481s\n",
      "                | eval_loss:0.11292776\t| time:12.20878369s\n",
      "===> epoch:24\t| train_loss:0.08945931\t| time:33.89350967s\n",
      "                | eval_loss:0.12476631\t| time:11.27694262s\n",
      "===> epoch:25\t| train_loss:0.07986264\t| time:34.91168218s\n",
      "                | eval_loss:0.10944287\t| time:11.44956398s\n",
      "===> epoch:26\t| train_loss:0.08113709\t| time:34.86983773s\n",
      "                | eval_loss:0.11119830\t| time:11.22102627s\n"
     ]
    }
   ],
   "source": [
    "train_losses,eval_losses,rnet=train_net(net, net_name='onet',  loss_config=Rnet_loss_config)"
   ]
  },
  {
   "cell_type": "markdown",
   "metadata": {
    "collapsed": true
   },
   "source": [
    "## Show the Loss Curve"
   ]
  },
  {
   "cell_type": "code",
   "execution_count": 10,
   "metadata": {
    "collapsed": false
   },
   "outputs": [
    {
     "data": {
      "image/png": "[encoded data removed]",
      "text/plain": [
       "<Figure size 432x288 with 1 Axes>"
      ]
     },
     "metadata": {
      "needs_background": "light"
     },
     "output_type": "display_data"
    }
   ],
   "source": [
    "x=np.arange(len(train_losses))\n",
    "plt.plot(x,train_losses,label='train')\n",
    "plt.plot(x,eval_losses,label='eval')\n",
    "plt.title('Landmark ONet Train')\n",
    "plt.xlabel('Epoch')\n",
    "plt.ylabel('Loss')\n",
    "plt.legend()\n",
    "plt.show()"
   ]
  }
 ],
 "metadata": {
  "anaconda-cloud": {},
  "kernelspec": {
   "display_name": "Python [default]",
   "language": "python",
   "name": "python3"
  },
  "language_info": {
   "codemirror_mode": {
    "name": "ipython",
    "version": 3
   },
   "file_extension": ".py",
   "mimetype": "text/x-python",
   "name": "python",
   "nbconvert_exporter": "python",
   "pygments_lexer": "ipython3",
   "version": "3.5.6"
  }
 },
 "nbformat": 4,
 "nbformat_minor": 4
}
