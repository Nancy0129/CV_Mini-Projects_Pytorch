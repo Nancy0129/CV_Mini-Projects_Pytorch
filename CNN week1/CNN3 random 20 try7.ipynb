{
 "cells": [
  {
   "cell_type": "code",
   "execution_count": null,
   "metadata": {
    "_cell_guid": "b1076dfc-b9ad-4769-8c92-a6c4dae69d19",
    "_uuid": "8f2839f25d086af736a60e9eeb907d3b93b6e0e5",
    "collapsed": true
   },
   "outputs": [],
   "source": [
    "# This Python 3 environment comes with many helpful analytics libraries installed\n",
    "# It is defined by the kaggle/python Docker image: https://github.com/kaggle/docker-python\n",
    "# For example, here's several helpful packages to load\n",
    "\n",
    "import numpy as np # linear algebra\n",
    "import pandas as pd # data processing, CSV file I/O (e.g. pd.read_csv)\n",
    "\n",
    "# Input data files are available in the read-only \"../input/\" directory\n",
    "# For example, running this (by clicking run or pressing Shift+Enter) will list all files under the input directory\n",
    "\n",
    "import os\n",
    "for dirname, _, filenames in os.walk('/kaggle/input'):\n",
    "    for filename in filenames:\n",
    "        print(os.path.join(dirname, filename))\n",
    "\n",
    "# You can write up to 5GB to the current directory (/kaggle/working/) that gets preserved as output when you create a version using \"Save & Run All\" \n",
    "# You can also write temporary files to /kaggle/temp/, but they won't be saved outside of the current session"
   ]
  },
  {
   "cell_type": "code",
   "execution_count": 1,
   "metadata": {
    "_cell_guid": "79c7e3d0-c299-4dcb-8224-4455121ee9b0",
    "_uuid": "d629ff2d2480ee46fbb7e2d37f6b5fab8052498a",
    "collapsed": false
   },
   "outputs": [
    {
     "name": "stderr",
     "output_type": "stream",
     "text": [
      "C:\\Users\\Xinmeng\\AppData\\Roaming\\Python\\Python35\\site-packages\\pandas\\compat\\_optional.py:106: UserWarning: Pandas requires version '1.2.1' or newer of 'bottleneck' (version '1.1.0' currently installed).\n",
      "  warnings.warn(msg, UserWarning)\n"
     ]
    }
   ],
   "source": [
    "import torch\n",
    "import torch.nn as nn\n",
    "from torch.autograd import Variable\n",
    "import torch.utils.data as Data\n",
    "import matplotlib.pyplot as plt\n",
    "import os\n",
    "from PIL import Image, ImageChops\n",
    "import numpy as np\n",
    "import pandas as pd\n",
    "import torchvision\n",
    "import warnings\n",
    "warnings.filterwarnings(\"ignore\")"
   ]
  },
  {
   "cell_type": "code",
   "execution_count": 2,
   "metadata": {
    "collapsed": true
   },
   "outputs": [],
   "source": [
    "def setup_seed(seed):\n",
    "     torch.manual_seed(seed)\n",
    "     torch.cuda.manual_seed_all(seed)\n",
    "     np.random.seed(seed)\n",
    "     torch.backends.cudnn.deterministic = True\n",
    "\n",
    "setup_seed(20)"
   ]
  },
  {
   "cell_type": "markdown",
   "metadata": {},
   "source": [
    "### 参照 Alexnet 结构"
   ]
  },
  {
   "cell_type": "code",
   "execution_count": 3,
   "metadata": {
    "collapsed": false
   },
   "outputs": [
    {
     "name": "stdout",
     "output_type": "stream",
     "text": [
      "CNN3(\n",
      "  (conv1): Sequential(\n",
      "    (0): Conv2d(3, 64, kernel_size=(11, 11), stride=(4, 4), padding=(2, 2))\n",
      "    (1): ReLU()\n",
      "    (2): BatchNorm2d(64, eps=1e-05, momentum=0.1, affine=True, track_running_stats=True)\n",
      "    (3): MaxPool2d(kernel_size=3, stride=2, padding=0, dilation=1, ceil_mode=False)\n",
      "  )\n",
      "  (conv2): Sequential(\n",
      "    (0): Conv2d(64, 192, kernel_size=(5, 5), stride=(1, 1), padding=(2, 2))\n",
      "    (1): ReLU()\n",
      "    (2): BatchNorm2d(192, eps=1e-05, momentum=0.1, affine=True, track_running_stats=True)\n",
      "    (3): MaxPool2d(kernel_size=3, stride=2, padding=0, dilation=1, ceil_mode=False)\n",
      "  )\n",
      "  (conv3): Sequential(\n",
      "    (0): Conv2d(192, 384, kernel_size=(3, 3), stride=(1, 1), padding=(1, 1))\n",
      "    (1): ReLU()\n",
      "    (2): BatchNorm2d(384, eps=1e-05, momentum=0.1, affine=True, track_running_stats=True)\n",
      "  )\n",
      "  (conv4): Sequential(\n",
      "    (0): Conv2d(384, 256, kernel_size=(3, 3), stride=(1, 1), padding=(1, 1))\n",
      "    (1): ReLU()\n",
      "    (2): BatchNorm2d(256, eps=1e-05, momentum=0.1, affine=True, track_running_stats=True)\n",
      "  )\n",
      "  (conv5): Sequential(\n",
      "    (0): Conv2d(256, 256, kernel_size=(3, 3), stride=(1, 1), padding=(1, 1))\n",
      "    (1): ReLU()\n",
      "    (2): BatchNorm2d(256, eps=1e-05, momentum=0.1, affine=True, track_running_stats=True)\n",
      "  )\n",
      "  (conv6): Sequential(\n",
      "    (0): Conv2d(256, 128, kernel_size=(3, 3), stride=(1, 1), padding=(1, 1))\n",
      "    (1): ReLU()\n",
      "    (2): BatchNorm2d(128, eps=1e-05, momentum=0.1, affine=True, track_running_stats=True)\n",
      "    (3): MaxPool2d(kernel_size=3, stride=2, padding=0, dilation=1, ceil_mode=False)\n",
      "  )\n",
      "  (dense1): Sequential(\n",
      "    (0): Linear(in_features=6272, out_features=4096, bias=True)\n",
      "    (1): Dropout(p=0.5, inplace=False)\n",
      "    (2): ReLU()\n",
      "  )\n",
      "  (dense2): Sequential(\n",
      "    (0): Linear(in_features=4096, out_features=4096, bias=True)\n",
      "    (1): Dropout(p=0.5, inplace=False)\n",
      "    (2): ReLU()\n",
      "  )\n",
      "  (out): Linear(in_features=4096, out_features=101, bias=True)\n",
      ")\n"
     ]
    }
   ],
   "source": [
    "class CNN3(nn.Module):\n",
    "    def __init__(self):\n",
    "        super(CNN3,self).__init__()\n",
    "        \n",
    "        self.conv1=nn.Sequential(\n",
    "            nn.Conv2d(\n",
    "                in_channels=3,    #前面的层有多高\n",
    "                out_channels=64,   #filter 的个数\n",
    "                kernel_size=11,\n",
    "                stride=4,\n",
    "                padding=(2,2)  # if stride=1, padding=(kernel_size-1)/2\n",
    "            ), \n",
    "            nn.ReLU(),          \n",
    "            nn.BatchNorm2d(64),\n",
    "            nn.MaxPool2d(kernel_size=3,stride=2)\n",
    "        )\n",
    "        \n",
    "        self.conv2=nn.Sequential(\n",
    "            nn.Conv2d(64,192,5,1,2),\n",
    "            nn.ReLU(),\n",
    "            nn.BatchNorm2d(192),\n",
    "            nn.MaxPool2d(kernel_size=3,stride=2)\n",
    "        )\n",
    "\n",
    "        \n",
    "        self.conv3=nn.Sequential(\n",
    "            nn.Conv2d(192,384,3,1,1),\n",
    "            nn.ReLU(),\n",
    "            nn.BatchNorm2d(384)\n",
    "        )\n",
    "\n",
    "        \n",
    "        self.conv4=nn.Sequential(\n",
    "            nn.Conv2d(384,256,3,1,1),\n",
    "            nn.ReLU(),\n",
    "            nn.BatchNorm2d(256)\n",
    "        )\n",
    "        \n",
    "        self.conv5=nn.Sequential(\n",
    "            nn.Conv2d(256,256,3,1,1),\n",
    "            nn.ReLU(),\n",
    "            nn.BatchNorm2d(256)\n",
    "        )\n",
    "        \n",
    "        self.conv6=nn.Sequential(\n",
    "            nn.Conv2d(256,128,3,1,1),\n",
    "            nn.ReLU(),\n",
    "            nn.BatchNorm2d(128),\n",
    "            nn.MaxPool2d(kernel_size=3,stride=2)            \n",
    "        )\n",
    "\n",
    "        self.dense1=nn.Sequential(\n",
    "            nn.Linear(6272,4096),\n",
    "            nn.Dropout(0.5),\n",
    "            nn.ReLU()\n",
    "        )\n",
    "        \n",
    "        self.dense2=nn.Sequential(\n",
    "            nn.Linear(4096,4096),\n",
    "            nn.Dropout(0.5),\n",
    "            nn.ReLU()\n",
    "        )\n",
    "       \n",
    "        self.out=nn.Linear(4096,101)\n",
    "        \n",
    "    def forward(self,x):\n",
    "        x=self.conv1(x)\n",
    "        x=self.conv2(x)\n",
    "        x=self.conv3(x)\n",
    "        x=self.conv4(x)\n",
    "        x=self.conv5(x)\n",
    "        x=self.conv6(x)\n",
    "        x=x.view(x.size(0),-1)\n",
    "        x=self.dense1(x)\n",
    "        x=self.dense2(x)\n",
    "        output=self.out(x)\n",
    "        return output       \n",
    "cnn3=CNN3().cuda()\n",
    "print(cnn3)"
   ]
  },
  {
   "cell_type": "code",
   "execution_count": 4,
   "metadata": {
    "collapsed": true
   },
   "outputs": [],
   "source": [
    "EPOCH = 30\n",
    "BATCH_SIZE=256\n",
    "LR=0.001\n",
    "optimizer=torch.optim.Adam(cnn3.parameters(),lr=LR) #change\n",
    "loss_func=nn.CrossEntropyLoss()\n",
    "\n"
   ]
  },
  {
   "cell_type": "code",
   "execution_count": null,
   "metadata": {
    "collapsed": true
   },
   "outputs": [],
   "source": [
    "train_data = torchvision.datasets.ImageFolder('/kaggle/input/caltech101/Caltech101/train',transform=torchvision.transforms.Compose([\n",
    "            torchvision.transforms.Resize((256,256)),torchvision.transforms.ToTensor()]))\n",
    "eval_data=torchvision.datasets.ImageFolder('/kaggle/input/caltech101/Caltech101/eval',transform=torchvision.transforms.Compose([\n",
    "            torchvision.transforms.Resize((256,256)),torchvision.transforms.ToTensor()]))\n",
    "\n",
    "test_data=torchvision.datasets.ImageFolder('/kaggle/input/caltech101/Caltech101/test',transform=torchvision.transforms.Compose([\n",
    "    torchvision.transforms.Resize((256,256)),torchvision.transforms.ToTensor()]))\n",
    "\n",
    "train_loader=Data.DataLoader(dataset=train_data,batch_size=BATCH_SIZE,\n",
    "                             shuffle=True, num_workers=2)\n",
    "eval_loader=Data.DataLoader(dataset=eval_data,batch_size=200,\n",
    "                             shuffle=True, num_workers=2)\n",
    "test_loader=Data.DataLoader(dataset=test_data,batch_size=200,\n",
    "                             shuffle=True, num_workers=2)"
   ]
  },
  {
   "cell_type": "code",
   "execution_count": null,
   "metadata": {
    "collapsed": true
   },
   "outputs": [],
   "source": [
    "losses=[]\n",
    "train_accs=[]\n",
    "eval_accs=[]\n",
    "for epoch in range(EPOCH):\n",
    "    for step,(x,y) in enumerate(train_loader):\n",
    "        b_x=Variable(x).cuda()\n",
    "        b_y=Variable(y).cuda()\n",
    "        \n",
    "        output=cnn3(b_x)   #change\n",
    "        loss=loss_func(output,b_y)\n",
    "        optimizer.zero_grad()\n",
    "        loss.backward()\n",
    "        optimizer.step()\n",
    "        \n",
    "        if step%10==0:\n",
    "            pred_y=torch.max(output,1)[1].cuda().data.squeeze()\n",
    "            train_accuracy=sum(pred_y==b_y).cpu().numpy()/b_y.size(0)\n",
    "            train_accs.append(train_accuracy)\n",
    "            losses.append(loss.data)\n",
    "            eval_acc=[]\n",
    "            for x,y in eval_loader:\n",
    "                b_x=Variable(x).cuda()\n",
    "                b_y=Variable(y).cuda()        \n",
    "                output=cnn3(b_x)         #change\n",
    "                pred_y=torch.max(output,1)[1].cuda().data.squeeze()\n",
    "                accuracy=sum(pred_y==b_y).cpu().numpy()/b_y.size(0)\n",
    "                eval_acc.append(accuracy)\n",
    "            eval_accs.append(np.mean(eval_acc))\n",
    "            print('Epoch: ',epoch,'| Step: ',step,'| loss: ',loss.data,\n",
    "                  '| Train_acc: ', train_accuracy,'| Eval_acc: ', np.mean(eval_acc))\n",
    "            ac=sum(eval_acc)/(len(eval_acc)*1.0)\n",
    " \n"
   ]
  },
  {
   "cell_type": "markdown",
   "metadata": {},
   "source": [
    "### Loss + Accuracy 曲线"
   ]
  },
  {
   "cell_type": "code",
   "execution_count": 19,
   "metadata": {
    "collapsed": false
   },
   "outputs": [
    {
     "data": {
      "image/png": "[encoded data removed]",
      "text/plain": [
       "<Figure size 432x288 with 1 Axes>"
      ]
     },
     "metadata": {
      "needs_background": "light"
     },
     "output_type": "display_data"
    }
   ],
   "source": [
    "x=np.arange(len(losses))*10\n",
    "plt.plot(x,losses)\n",
    "plt.title('TRY 7')\n",
    "plt.xlabel('Step')\n",
    "plt.ylabel('Loss')\n",
    "plt.show()"
   ]
  },
  {
   "cell_type": "code",
   "execution_count": 20,
   "metadata": {
    "collapsed": false
   },
   "outputs": [
    {
     "data": {
      "image/png": "[encoded data removed]",
      "text/plain": [
       "<Figure size 432x288 with 1 Axes>"
      ]
     },
     "metadata": {
      "needs_background": "light"
     },
     "output_type": "display_data"
    }
   ],
   "source": [
    "plt.plot(x,eval_accs,label='eval')\n",
    "plt.plot(x,train_accs,label='train')\n",
    "plt.title('TRY 7')\n",
    "plt.xlabel('Step')\n",
    "plt.ylabel('Accuracy')\n",
    "plt.legend()\n",
    "plt.show()"
   ]
  },
  {
   "cell_type": "code",
   "execution_count": 21,
   "metadata": {
    "collapsed": true
   },
   "outputs": [],
   "source": [
    "torch.save(cnn3.state_dict(),'CNN3 3.pkl')"
   ]
  },
  {
   "cell_type": "code",
   "execution_count": 22,
   "metadata": {
    "collapsed": false
   },
   "outputs": [
    {
     "data": {
      "text/plain": [
       "[0.8984375,\n",
       " 0.85546875,\n",
       " 0.859375,\n",
       " 0.85546875,\n",
       " 0.85546875,\n",
       " 0.83203125,\n",
       " 0.8359375,\n",
       " 0.81640625,\n",
       " 0.8359375,\n",
       " 0.81640625,\n",
       " 0.8515625,\n",
       " 0.875,\n",
       " 0.85546875,\n",
       " 0.83984375,\n",
       " 0.83203125,\n",
       " 0.83203125,\n",
       " 0.83203125,\n",
       " 0.83984375,\n",
       " 0.828125,\n",
       " 0.8515625,\n",
       " 0.828125,\n",
       " 0.83984375,\n",
       " 0.8515625,\n",
       " 0.8359375,\n",
       " 0.8888888888888888]"
      ]
     },
     "execution_count": 22,
     "metadata": {},
     "output_type": "execute_result"
    }
   ],
   "source": [
    "train_acc=[]\n",
    "for x,y in train_loader:\n",
    "    b_x=Variable(x).cuda()\n",
    "    b_y=Variable(y).cuda()        \n",
    "    output=cnn3(b_x)\n",
    "    pred_y=torch.max(output,1)[1].cuda().data.squeeze()\n",
    "    accuracy=sum(pred_y==b_y).cpu().numpy()/b_y.size(0)\n",
    "    train_acc.append(accuracy)\n",
    "train_acc"
   ]
  },
  {
   "cell_type": "code",
   "execution_count": 23,
   "metadata": {
    "collapsed": false
   },
   "outputs": [
    {
     "data": {
      "text/plain": [
       "[0.59, 0.595, 0.55, 0.555, 0.4]"
      ]
     },
     "execution_count": 23,
     "metadata": {},
     "output_type": "execute_result"
    }
   ],
   "source": [
    "eval_acc=[]\n",
    "for x,y in eval_loader:\n",
    "    b_x=Variable(x).cuda()\n",
    "    b_y=Variable(y).cuda()        \n",
    "    output=cnn3(b_x)\n",
    "    pred_y=torch.max(output,1)[1].cuda().data.squeeze()\n",
    "    accuracy=sum(pred_y==b_y).cpu().numpy()/b_y.size(0)\n",
    "    eval_acc.append(accuracy)\n",
    "eval_acc"
   ]
  },
  {
   "cell_type": "code",
   "execution_count": 24,
   "metadata": {
    "collapsed": false
   },
   "outputs": [
    {
     "data": {
      "text/plain": [
       "[0.565, 0.565, 0.52, 0.585, 0.5]"
      ]
     },
     "execution_count": 24,
     "metadata": {},
     "output_type": "execute_result"
    }
   ],
   "source": [
    "test_acc=[]\n",
    "for x,y in eval_loader:\n",
    "    b_x=Variable(x).cuda()\n",
    "    b_y=Variable(y).cuda()        \n",
    "    output=cnn3(b_x)\n",
    "    pred_y=torch.max(output,1)[1].cuda().data.squeeze()\n",
    "    accuracy=sum(pred_y==b_y).cpu().numpy()/b_y.size(0)\n",
    "    test_acc.append(accuracy)\n",
    "test_acc"
   ]
  },
  {
   "cell_type": "code",
   "execution_count": 25,
   "metadata": {
    "collapsed": false
   },
   "outputs": [
    {
     "data": {
      "text/plain": [
       "0.8457118055555556"
      ]
     },
     "execution_count": 25,
     "metadata": {},
     "output_type": "execute_result"
    }
   ],
   "source": [
    "np.mean(train_acc)"
   ]
  },
  {
   "cell_type": "code",
   "execution_count": 26,
   "metadata": {
    "collapsed": false
   },
   "outputs": [
    {
     "data": {
      "text/plain": [
       "0.538"
      ]
     },
     "execution_count": 26,
     "metadata": {},
     "output_type": "execute_result"
    }
   ],
   "source": [
    "np.mean(eval_acc)"
   ]
  },
  {
   "cell_type": "code",
   "execution_count": 27,
   "metadata": {
    "collapsed": false
   },
   "outputs": [
    {
     "data": {
      "text/plain": [
       "0.5469999999999999"
      ]
     },
     "execution_count": 27,
     "metadata": {},
     "output_type": "execute_result"
    }
   ],
   "source": [
    "np.mean(test_acc)"
   ]
  },
  {
   "cell_type": "code",
   "execution_count": null,
   "metadata": {
    "collapsed": true
   },
   "outputs": [],
   "source": []
  }
 ],
 "metadata": {
  "anaconda-cloud": {},
  "kernelspec": {
   "display_name": "Python [default]",
   "language": "python",
   "name": "python3"
  },
  "language_info": {
   "codemirror_mode": {
    "name": "ipython",
    "version": 3
   },
   "file_extension": ".py",
   "mimetype": "text/x-python",
   "name": "python",
   "nbconvert_exporter": "python",
   "pygments_lexer": "ipython3",
   "version": "3.5.6"
  }
 },
 "nbformat": 4,
 "nbformat_minor": 4
}
