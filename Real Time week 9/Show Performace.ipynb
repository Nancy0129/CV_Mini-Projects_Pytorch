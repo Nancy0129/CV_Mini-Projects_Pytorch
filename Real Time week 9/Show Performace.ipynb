{
 "cells": [
  {
   "cell_type": "code",
   "execution_count": 1,
   "metadata": {
    "collapsed": true
   },
   "outputs": [],
   "source": [
    "import json\n",
    "import cv2"
   ]
  },
  {
   "cell_type": "markdown",
   "metadata": {},
   "source": [
    "## Load the json file"
   ]
  },
  {
   "cell_type": "code",
   "execution_count": 2,
   "metadata": {
    "collapsed": false
   },
   "outputs": [],
   "source": [
    "with open(\"../weights/qwr2.json\",'r',encoding='utf-8') as json_file:\n",
    "    face_infomation=json.load(json_file)"
   ]
  },
  {
   "cell_type": "markdown",
   "metadata": {},
   "source": [
    "## Show the Results"
   ]
  },
  {
   "cell_type": "code",
   "execution_count": 3,
   "metadata": {
    "collapsed": false
   },
   "outputs": [],
   "source": [
    "video_capture = cv2.VideoCapture('qwr2.mp4')\n",
    "fourcc=int(video_capture.get(cv2.CAP_PROP_FOURCC))\n",
    "width=int(video_capture.get(cv2.CAP_PROP_FRAME_WIDTH))\n",
    "height=int(video_capture.get(cv2.CAP_PROP_FRAME_HEIGHT))\n",
    "fps=video_capture.get(cv2.CAP_PROP_FPS)\n",
    "out=cv2.VideoWriter('out_qwr2.mp4',fourcc,fps,(width,height))\n",
    "for i in range(len(face_infomation)):\n",
    "    ret, frame = video_capture.read()\n",
    "# Display the results\n",
    "    information=face_infomation[i]\n",
    "    if information is not None:\n",
    "        \n",
    "        face_locations, face_names=information['face_locations'][0],information['names']\n",
    "        for (left, top, right, bottom,_), name in zip(face_locations, face_names):\n",
    "            # Draw a box around the face\n",
    "            cv2.rectangle(frame, (int(left), int(top)), (int(right), int(bottom)), (0, 0, 255), 2)\n",
    "            \n",
    "\n",
    "            # Draw a label with a name below the face\n",
    "            cv2.rectangle(frame, (int(left), int(bottom) - 15), (int(right), int(bottom)), (0, 0, 255), cv2.FILLED)\n",
    "            font = cv2.FONT_HERSHEY_DUPLEX\n",
    "            cv2.putText(frame, name, (int(left) + 6, int(bottom) - 6), font, 0.5, (255, 255, 255), 1)\n",
    "\n",
    "    # Display the resulting image\n",
    "    out.write(frame)\n",
    "    cv2.imshow('Video', frame)   \n",
    "    \n",
    "    # Hit 'q' on the keyboard to quit!\n",
    "    if cv2.waitKey(50) & 0xFF == ord('q'):\n",
    "        break\n",
    "\n",
    "# Release handle to the webcam\n",
    "video_capture.release()\n",
    "out.release()\n",
    "cv2.destroyAllWindows()"
   ]
  }
 ],
 "metadata": {
  "anaconda-cloud": {},
  "kernelspec": {
   "display_name": "Python [default]",
   "language": "python",
   "name": "python3"
  },
  "language_info": {
   "codemirror_mode": {
    "name": "ipython",
    "version": 3
   },
   "file_extension": ".py",
   "mimetype": "text/x-python",
   "name": "python",
   "nbconvert_exporter": "python",
   "pygments_lexer": "ipython3",
   "version": "3.5.6"
  }
 },
 "nbformat": 4,
 "nbformat_minor": 1
}
